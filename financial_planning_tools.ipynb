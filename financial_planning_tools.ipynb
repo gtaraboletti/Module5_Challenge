{
 "cells": [
  {
   "cell_type": "markdown",
   "metadata": {},
   "source": [
    "# Financial Planning with APIs and Simulations\n",
    "\n",
    "In this Challenge, you’ll create two financial analysis tools by using a single Jupyter notebook:\n",
    "\n",
    "Part 1: A financial planner for emergencies. The members will be able to use this tool to visualize their current savings. The members can then determine if they have enough reserves for an emergency fund.\n",
    "\n",
    "Part 2: A financial planner for retirement. This tool will forecast the performance of their retirement portfolio in 30 years. To do this, the tool will make an Alpaca API call via the Alpaca SDK to get historical price data for use in Monte Carlo simulations.\n",
    "\n",
    "You’ll use the information from the Monte Carlo simulation to answer questions about the portfolio in your Jupyter notebook.\n",
    "\n"
   ]
  },
  {
   "cell_type": "code",
   "execution_count": 1,
   "metadata": {},
   "outputs": [],
   "source": [
    "# Import the required libraries and dependencies\n",
    "import os\n",
    "import requests\n",
    "import json\n",
    "import pandas as pd\n",
    "from dotenv import load_dotenv\n",
    "import alpaca_trade_api as tradeapi\n",
    "from MCForecastTools import MCSimulation\n",
    "\n",
    "%matplotlib inline"
   ]
  },
  {
   "cell_type": "code",
   "execution_count": 2,
   "metadata": {},
   "outputs": [
    {
     "data": {
      "text/plain": [
       "True"
      ]
     },
     "execution_count": 2,
     "metadata": {},
     "output_type": "execute_result"
    }
   ],
   "source": [
    "# Loads the environment variables from the .env file\n",
    "#by calling the load_dotenv function\n",
    "load_dotenv()\n",
    "\n"
   ]
  },
  {
   "cell_type": "markdown",
   "metadata": {},
   "source": [
    "## Part 1: Create a Financial Planner for Emergencies"
   ]
  },
  {
   "cell_type": "markdown",
   "metadata": {},
   "source": [
    "### Evaluate the Cryptocurrency Wallet by Using the Requests Library\n",
    "\n",
    "In this section, you’ll determine the current value of a member’s cryptocurrency wallet. You’ll collect the current prices for the Bitcoin and Ethereum cryptocurrencies by using the Python Requests library. For the prototype, you’ll assume that the member holds the 1.2 Bitcoins (BTC) and 5.3 Ethereum coins (ETH). To do all this, complete the following steps:\n",
    "\n",
    "1. Create a variable named `monthly_income`, and set its value to `12000`.\n",
    "\n",
    "2. Use the Requests library to get the current price (in US dollars) of Bitcoin (BTC) and Ethereum (ETH) by using the API endpoints that the starter code supplies.\n",
    "\n",
    "3. Navigate the JSON response object to access the current price of each coin, and store each in a variable.\n",
    "\n",
    "    > **Hint** Note the specific identifier for each cryptocurrency in the API JSON response. The Bitcoin identifier is `1`, and the Ethereum identifier is `1027`.\n",
    "\n",
    "4. Calculate the value, in US dollars, of the current amount of each cryptocurrency and of the entire cryptocurrency wallet.\n",
    "\n"
   ]
  },
  {
   "cell_type": "code",
   "execution_count": 3,
   "metadata": {},
   "outputs": [],
   "source": [
    "# The current number of coins for each cryptocurrency asset held in the portfolio.\n",
    "btc_coins = 1.2\n",
    "eth_coins = 5.3"
   ]
  },
  {
   "cell_type": "markdown",
   "metadata": {},
   "source": [
    "#### Step 1: Create a variable named `monthly_income`, and set its value to `12000`."
   ]
  },
  {
   "cell_type": "code",
   "execution_count": 4,
   "metadata": {},
   "outputs": [],
   "source": [
    "# The monthly amount for the member's household income\n",
    "monthly_income = 12000"
   ]
  },
  {
   "cell_type": "markdown",
   "metadata": {},
   "source": [
    "#### Review the endpoint URLs for the API calls to Free Crypto API in order to get the current pricing information for both BTC and ETH."
   ]
  },
  {
   "cell_type": "code",
   "execution_count": 5,
   "metadata": {},
   "outputs": [],
   "source": [
    "# The Free Crypto API Call endpoint URLs for the held cryptocurrency assets\n",
    "btc_url = \"https://api.alternative.me/v2/ticker/Bitcoin/?convert=USD\"\n",
    "eth_url = \"https://api.alternative.me/v2/ticker/Ethereum/?convert=USD\""
   ]
  },
  {
   "cell_type": "markdown",
   "metadata": {},
   "source": [
    "#### Step 2. Use the Requests library to get the current price (in US dollars) of Bitcoin (BTC) and Ethereum (ETH) by using the API endpoints that the starter code supplied."
   ]
  },
  {
   "cell_type": "code",
   "execution_count": 6,
   "metadata": {},
   "outputs": [
    {
     "name": "stdout",
     "output_type": "stream",
     "text": [
      "{\n",
      "    \"data\": {\n",
      "        \"1\": {\n",
      "            \"circulating_supply\": 18827262,\n",
      "            \"id\": 1,\n",
      "            \"last_updated\": 1632710950,\n",
      "            \"max_supply\": 21000000,\n",
      "            \"name\": \"Bitcoin\",\n",
      "            \"quotes\": {\n",
      "                \"USD\": {\n",
      "                    \"market_cap\": 830589925934,\n",
      "                    \"percent_change_1h\": -0.288251344233824,\n",
      "                    \"percent_change_24h\": 4.88975200176814,\n",
      "                    \"percent_change_7d\": -6.59355786522799,\n",
      "                    \"percentage_change_1h\": -0.288251344233824,\n",
      "                    \"percentage_change_24h\": 4.88975200176814,\n",
      "                    \"percentage_change_7d\": -6.59355786522799,\n",
      "                    \"price\": 44248.0,\n",
      "                    \"volume_24h\": 32000866779\n",
      "                }\n",
      "            },\n",
      "            \"rank\": 1,\n",
      "            \"symbol\": \"BTC\",\n",
      "            \"total_supply\": 18827262,\n",
      "            \"website_slug\": \"bitcoin\"\n",
      "        }\n",
      "    },\n",
      "    \"metadata\": {\n",
      "        \"error\": null,\n",
      "        \"num_cryptocurrencies\": 3105,\n",
      "        \"timestamp\": 1632710950\n",
      "    }\n",
      "}\n"
     ]
    }
   ],
   "source": [
    "#API call to access the current price of BTC\n",
    "btc_response = requests.get(btc_url).json()\n",
    "\n",
    "# reviews the response data from the API call\n",
    "print(json.dumps(btc_response, indent=4, sort_keys=True))\n"
   ]
  },
  {
   "cell_type": "code",
   "execution_count": 7,
   "metadata": {},
   "outputs": [
    {
     "name": "stdout",
     "output_type": "stream",
     "text": [
      "{\n",
      "    \"data\": {\n",
      "        \"1027\": {\n",
      "            \"circulating_supply\": 117689996,\n",
      "            \"id\": 1027,\n",
      "            \"last_updated\": 1632710960,\n",
      "            \"max_supply\": 0,\n",
      "            \"name\": \"Ethereum\",\n",
      "            \"quotes\": {\n",
      "                \"USD\": {\n",
      "                    \"market_cap\": 369129802984,\n",
      "                    \"percent_change_1h\": -0.698388501107524,\n",
      "                    \"percent_change_24h\": 9.60313031886645,\n",
      "                    \"percent_change_7d\": -5.73788230519385,\n",
      "                    \"percentage_change_1h\": -0.698388501107524,\n",
      "                    \"percentage_change_24h\": 9.60313031886645,\n",
      "                    \"percentage_change_7d\": -5.73788230519385,\n",
      "                    \"price\": 3144.48,\n",
      "                    \"volume_24h\": 25805677460\n",
      "                }\n",
      "            },\n",
      "            \"rank\": 2,\n",
      "            \"symbol\": \"ETH\",\n",
      "            \"total_supply\": 117689996,\n",
      "            \"website_slug\": \"ethereum\"\n",
      "        }\n",
      "    },\n",
      "    \"metadata\": {\n",
      "        \"error\": null,\n",
      "        \"num_cryptocurrencies\": 3105,\n",
      "        \"timestamp\": 1632710960\n",
      "    }\n",
      "}\n"
     ]
    }
   ],
   "source": [
    "# API call to access the current price ETH\n",
    "eth_response = requests.get(eth_url).json()\n",
    "\n",
    "#  Reviews the response data from the API call\n",
    "print(json.dumps(eth_response, indent=4, sort_keys=True))\n"
   ]
  },
  {
   "cell_type": "markdown",
   "metadata": {},
   "source": [
    "#### Step 3: Navigate the JSON response object to access the current price of each coin, and store each in a variable."
   ]
  },
  {
   "cell_type": "code",
   "execution_count": 8,
   "metadata": {},
   "outputs": [
    {
     "name": "stdout",
     "output_type": "stream",
     "text": [
      "44248.0\n"
     ]
    }
   ],
   "source": [
    "# Navigates the BTC response object to access the current price of BTC\n",
    "#Bitcoin ID# is 1\n",
    "btc_price = btc_response[\"data\"][\"1\"][\"quotes\"][\"USD\"][\"price\"]\n",
    "\n",
    "# Prints the current price of BTC\n",
    "print(btc_price)"
   ]
  },
  {
   "cell_type": "code",
   "execution_count": 9,
   "metadata": {},
   "outputs": [
    {
     "name": "stdout",
     "output_type": "stream",
     "text": [
      "3144.48\n"
     ]
    }
   ],
   "source": [
    "# Navigates the ETH response object to access the current price of ETH\n",
    "#ETH ID# is 1027\n",
    "eth_price = eth_response[\"data\"][\"1027\"][\"quotes\"][\"USD\"][\"price\"]\n",
    "\n",
    "# Prints the current price of ETH\n",
    "print(eth_price)"
   ]
  },
  {
   "cell_type": "markdown",
   "metadata": {},
   "source": [
    "### Step 4: Calculate the value, in US dollars, of the current amount of each cryptocurrency and of the entire cryptocurrency wallet."
   ]
  },
  {
   "cell_type": "code",
   "execution_count": 10,
   "metadata": {},
   "outputs": [
    {
     "name": "stdout",
     "output_type": "stream",
     "text": [
      "53097.6\n"
     ]
    }
   ],
   "source": [
    "# Computes the current value of the BTC holding \n",
    "btc_value = btc_price * btc_coins\n",
    "# Prints current value of your holding in BTC\n",
    "print(btc_value)"
   ]
  },
  {
   "cell_type": "code",
   "execution_count": 11,
   "metadata": {},
   "outputs": [
    {
     "name": "stdout",
     "output_type": "stream",
     "text": [
      "16665.744\n"
     ]
    }
   ],
   "source": [
    "# Computes the current value of the ETH holding \n",
    "eth_value = eth_price * eth_coins\n",
    "\n",
    "# Prints current value of your holding in ETH\n",
    "print(eth_value)"
   ]
  },
  {
   "cell_type": "code",
   "execution_count": 12,
   "metadata": {},
   "outputs": [
    {
     "name": "stdout",
     "output_type": "stream",
     "text": [
      "69763.344\n"
     ]
    }
   ],
   "source": [
    "# Computes the total value of the cryptocurrency wallet\n",
    "# by adding the value of the BTC holding to the value of the ETH holding\n",
    "total_crypto_wallet = btc_value + eth_value\n",
    "\n",
    "# Prints current cryptocurrency wallet balance\n",
    "print(total_crypto_wallet)"
   ]
  },
  {
   "cell_type": "markdown",
   "metadata": {},
   "source": [
    "### Evaluate the Stock and Bond Holdings by Using the Alpaca SDK\n",
    "\n",
    "In this section, you’ll determine the current value of a member’s stock and bond holdings. You’ll make an API call to Alpaca via the Alpaca SDK to get the current closing prices of the SPDR S&P 500 ETF Trust (ticker: SPY) and of the iShares Core US Aggregate Bond ETF (ticker: AGG). For the prototype, assume that the member holds 110 shares of SPY, which represents the stock portion of their portfolio, and 200 shares of AGG, which represents the bond portion. To do all this, complete the following steps:\n",
    "\n",
    "1. In the `Starter_Code` folder, create an environment file (`.env`) to store the values of your Alpaca API key and Alpaca secret key.\n",
    "\n",
    "2. Set the variables for the Alpaca API and secret keys. Using the Alpaca SDK, create the Alpaca `tradeapi.REST` object. In this object, include the parameters for the Alpaca API key, the secret key, and the version number.\n",
    "\n",
    "3. Set the following parameters for the Alpaca API call:\n",
    "\n",
    "    - `tickers`: Use the tickers for the member’s stock and bond holdings.\n",
    "\n",
    "    - `timeframe`: Use a time frame of one day.\n",
    "\n",
    "    - `start_date` and `end_date`: Use the same date for these parameters, and format them with the date of the previous weekday (or `2020-08-07`). This is because you want the one closing price for the most-recent trading day.\n",
    "\n",
    "4. Get the current closing prices for `SPY` and `AGG` by using the Alpaca `get_barset` function. Format the response as a Pandas DataFrame by including the `df` property at the end of the `get_barset` function.\n",
    "\n",
    "5. Navigating the Alpaca response DataFrame, select the `SPY` and `AGG` closing prices, and store them as variables.\n",
    "\n",
    "6. Calculate the value, in US dollars, of the current amount of shares in each of the stock and bond portions of the portfolio, and print the results.\n"
   ]
  },
  {
   "cell_type": "markdown",
   "metadata": {},
   "source": [
    "#### Review the total number of shares held in both (SPY) and (AGG)."
   ]
  },
  {
   "cell_type": "code",
   "execution_count": 13,
   "metadata": {},
   "outputs": [],
   "source": [
    "# Current amount of shares held in both the stock (SPY) and bond (AGG) portion of the portfolio.\n",
    "spy_shares = 110\n",
    "agg_shares = 200\n"
   ]
  },
  {
   "cell_type": "markdown",
   "metadata": {},
   "source": [
    "#### Step 1: In the `Starter_Code` folder, create an environment file (`.env`) to store the values of your Alpaca API key and Alpaca secret key."
   ]
  },
  {
   "cell_type": "markdown",
   "metadata": {},
   "source": [
    "#### Step 2: Set the variables for the Alpaca API and secret keys. Using the Alpaca SDK, create the Alpaca `tradeapi.REST` object. In this object, include the parameters for the Alpaca API key, the secret key, and the version number."
   ]
  },
  {
   "cell_type": "code",
   "execution_count": 14,
   "metadata": {},
   "outputs": [],
   "source": [
    "# Sets the variables for the Alpaca API and secret keys\n",
    "alpaca_api_key = os.getenv(\"ALPACA_API_KEY\")\n",
    "alpaca_secret_key = os.getenv(\"ALPACA_SECRET_KEY\")\n",
    "\n",
    "# Creates the Alpaca tradeapi.REST object\n",
    "alpaca = tradeapi.REST(\n",
    "    alpaca_api_key,\n",
    "    alpaca_secret_key,\n",
    "    api_version = \"v2\"\n",
    ")\n"
   ]
  },
  {
   "cell_type": "markdown",
   "metadata": {},
   "source": [
    "#### Step 3: Set the following parameters for the Alpaca API call:\n",
    "\n",
    "- `tickers`: Use the tickers for the member’s stock and bond holdings.\n",
    "\n",
    "- `timeframe`: Use a time frame of one day.\n",
    "\n",
    "- `start_date` and `end_date`: Use the same date for these parameters, and format them with the date of the previous weekday (or `2020-08-07`). This is because you want the one closing price for the most-recent trading day.\n"
   ]
  },
  {
   "cell_type": "code",
   "execution_count": 15,
   "metadata": {},
   "outputs": [],
   "source": [
    "# Sets the tickers for both the bond and stock portion of the portfolio\n",
    "tickers = [\"SPY\", \"AGG\"]\n",
    "\n",
    "# Sets timeframe to 1D \n",
    "timeframe= \"1D\"\n",
    "\n",
    "# Formats current date as ISO format\n",
    "start_date = pd.Timestamp(\"2021-09-24\", tz=\"America/New_York\").isoformat()\n",
    "end_date = pd.Timestamp(\"2021-09-24\", tz=\"America/New_York\").isoformat()\n",
    "\n"
   ]
  },
  {
   "cell_type": "markdown",
   "metadata": {},
   "source": [
    "#### Step 4: Get the current closing prices for `SPY` and `AGG` by using the Alpaca `get_barset` function. Format the response as a Pandas DataFrame by including the `df` property at the end of the `get_barset` function."
   ]
  },
  {
   "cell_type": "code",
   "execution_count": 16,
   "metadata": {},
   "outputs": [
    {
     "data": {
      "text/html": [
       "<div>\n",
       "<style scoped>\n",
       "    .dataframe tbody tr th:only-of-type {\n",
       "        vertical-align: middle;\n",
       "    }\n",
       "\n",
       "    .dataframe tbody tr th {\n",
       "        vertical-align: top;\n",
       "    }\n",
       "\n",
       "    .dataframe thead tr th {\n",
       "        text-align: left;\n",
       "    }\n",
       "\n",
       "    .dataframe thead tr:last-of-type th {\n",
       "        text-align: right;\n",
       "    }\n",
       "</style>\n",
       "<table border=\"1\" class=\"dataframe\">\n",
       "  <thead>\n",
       "    <tr>\n",
       "      <th></th>\n",
       "      <th colspan=\"5\" halign=\"left\">AGG</th>\n",
       "      <th colspan=\"5\" halign=\"left\">SPY</th>\n",
       "    </tr>\n",
       "    <tr>\n",
       "      <th></th>\n",
       "      <th>open</th>\n",
       "      <th>high</th>\n",
       "      <th>low</th>\n",
       "      <th>close</th>\n",
       "      <th>volume</th>\n",
       "      <th>open</th>\n",
       "      <th>high</th>\n",
       "      <th>low</th>\n",
       "      <th>close</th>\n",
       "      <th>volume</th>\n",
       "    </tr>\n",
       "    <tr>\n",
       "      <th>time</th>\n",
       "      <th></th>\n",
       "      <th></th>\n",
       "      <th></th>\n",
       "      <th></th>\n",
       "      <th></th>\n",
       "      <th></th>\n",
       "      <th></th>\n",
       "      <th></th>\n",
       "      <th></th>\n",
       "      <th></th>\n",
       "    </tr>\n",
       "  </thead>\n",
       "  <tbody>\n",
       "    <tr>\n",
       "      <th>2021-09-24 00:00:00-04:00</th>\n",
       "      <td>115.5</td>\n",
       "      <td>115.5055</td>\n",
       "      <td>115.319</td>\n",
       "      <td>115.41</td>\n",
       "      <td>3388185</td>\n",
       "      <td>441.44</td>\n",
       "      <td>444.67</td>\n",
       "      <td>441.21</td>\n",
       "      <td>443.92</td>\n",
       "      <td>52199034</td>\n",
       "    </tr>\n",
       "  </tbody>\n",
       "</table>\n",
       "</div>"
      ],
      "text/plain": [
       "                             AGG                                         SPY  \\\n",
       "                            open      high      low   close   volume    open   \n",
       "time                                                                           \n",
       "2021-09-24 00:00:00-04:00  115.5  115.5055  115.319  115.41  3388185  441.44   \n",
       "\n",
       "                                                             \n",
       "                             high     low   close    volume  \n",
       "time                                                         \n",
       "2021-09-24 00:00:00-04:00  444.67  441.21  443.92  52199034  "
      ]
     },
     "execution_count": 16,
     "metadata": {},
     "output_type": "execute_result"
    }
   ],
   "source": [
    "#  Gets current closing prices the portfolio\n",
    "# and formats the response object as a DataFrame\n",
    "stockbond_portfolio_df = alpaca.get_barset(\n",
    "    tickers,\n",
    "    timeframe,\n",
    "    start=start_date,\n",
    "    end= end_date\n",
    ").df\n",
    "\n",
    "# Reviews the first 5 rows of the Alpaca DataFrame\n",
    "stockbond_portfolio_df.head()\n"
   ]
  },
  {
   "cell_type": "markdown",
   "metadata": {},
   "source": [
    "#### Step 5: Navigating the Alpaca response DataFrame, select the `SPY` and `AGG` closing prices, and store them as variables."
   ]
  },
  {
   "cell_type": "code",
   "execution_count": 17,
   "metadata": {},
   "outputs": [
    {
     "name": "stdout",
     "output_type": "stream",
     "text": [
      "115.41\n"
     ]
    }
   ],
   "source": [
    "# Accesses the closing price for AGG from the Alpaca DataFrame\n",
    "# by converting the value to a floating point number\n",
    "agg_close_price = stockbond_portfolio_df[\"AGG\"][\"close\"][0]\n",
    "\n",
    "print(agg_close_price)\n"
   ]
  },
  {
   "cell_type": "code",
   "execution_count": 18,
   "metadata": {},
   "outputs": [
    {
     "name": "stdout",
     "output_type": "stream",
     "text": [
      "443.92\n"
     ]
    }
   ],
   "source": [
    "# Accesses the closing price for SPY from the Alpaca DataFrame\n",
    "# by converting the value to a floating point number\n",
    "spy_close_price = stockbond_portfolio_df[\"SPY\"][\"close\"][0]\n",
    "\n",
    "# Print the SPY closing price\n",
    "print(spy_close_price)"
   ]
  },
  {
   "cell_type": "markdown",
   "metadata": {},
   "source": [
    "#### Step 6: Calculate the value, in US dollars, of the current amount of shares in each of the stock and bond portions of the portfolio, and print the results."
   ]
  },
  {
   "cell_type": "code",
   "execution_count": 19,
   "metadata": {},
   "outputs": [
    {
     "name": "stdout",
     "output_type": "stream",
     "text": [
      "23082.0\n"
     ]
    }
   ],
   "source": [
    "# Calculates the current value of the bond portion of the portfolio\n",
    "agg_value = agg_close_price * agg_shares\n",
    "\n",
    "# Prints the current value of the bond portfolio\n",
    "print(agg_value)"
   ]
  },
  {
   "cell_type": "code",
   "execution_count": 20,
   "metadata": {},
   "outputs": [
    {
     "name": "stdout",
     "output_type": "stream",
     "text": [
      "48831.20\n"
     ]
    }
   ],
   "source": [
    "# Calculates the current value of the stock portion of the portfolio\n",
    "spy_value = spy_close_price * spy_shares\n",
    "spy_value= spy_value\n",
    "# Prints the current value of the stock portfolio\n",
    "print(f\"{spy_value:.2f}\")\n"
   ]
  },
  {
   "cell_type": "code",
   "execution_count": 21,
   "metadata": {},
   "outputs": [
    {
     "name": "stdout",
     "output_type": "stream",
     "text": [
      " 71913.20\n"
     ]
    }
   ],
   "source": [
    "# Calculates the total value of the stock and bond portion of the portfolio\n",
    "total_stocks_bonds = agg_value + spy_value\n",
    "\n",
    "# Prints the current balance of the stock and bond portion of the portfolio\n",
    "print(f\"{total_stocks_bonds: .2f}\") \n",
    "\n"
   ]
  },
  {
   "cell_type": "code",
   "execution_count": 22,
   "metadata": {},
   "outputs": [
    {
     "name": "stdout",
     "output_type": "stream",
     "text": [
      "141676\n"
     ]
    }
   ],
   "source": [
    "# Calculates the total value of the member's entire savings portfolio\n",
    "# by adding the value of the cryptocurrency wallet to the value of the total stocks and bonds\n",
    "total_portfolio = total_crypto_wallet + total_stocks_bonds\n",
    "\n",
    "# Prints total portfolio balance\n",
    "print(int(float(total_portfolio)))\n"
   ]
  },
  {
   "cell_type": "markdown",
   "metadata": {},
   "source": [
    "### Evaluate the Emergency Fund\n",
    "\n",
    "In this section, you’ll use the valuations for the cryptocurrency wallet and for the stock and bond portions of the portfolio to determine if the credit union member has enough savings to build an emergency fund into their financial plan. To do this, complete the following steps:\n",
    "\n",
    "1. Create a Python list named `savings_data` that has two elements. The first element contains the total value of the cryptocurrency wallet. The second element contains the total value of the stock and bond portions of the portfolio.\n",
    "\n",
    "2. Use the `savings_data` list to create a Pandas DataFrame named `savings_df`, and then display this DataFrame. The function to create the DataFrame should take the following three parameters:\n",
    "\n",
    "    - `savings_data`: Use the list that you just created.\n",
    "\n",
    "    - `columns`: Set this parameter equal to a Python list with a single value called `amount`.\n",
    "\n",
    "    - `index`: Set this parameter equal to a Python list with the values of `crypto` and `stock/bond`.\n",
    "\n",
    "3. Use the `savings_df` DataFrame to plot a pie chart that visualizes the composition of the member’s portfolio. The y-axis of the pie chart uses `amount`. Be sure to add a title.\n",
    "\n",
    "4. Using Python, determine if the current portfolio has enough to create an emergency fund as part of the member’s financial plan. Ideally, an emergency fund should equal to three times the member’s monthly income. To do this, implement the following steps:\n",
    "\n",
    "    1. Create a variable named `emergency_fund_value`, and set it equal to three times the value of the member’s `monthly_income` of $12000. (You set this earlier in Part 1).\n",
    "\n",
    "    2. Create a series of three if statements to determine if the member’s total portfolio is large enough to fund the emergency portfolio:\n",
    "\n",
    "        1. If the total portfolio value is greater than the emergency fund value, display a message congratulating the member for having enough money in this fund.\n",
    "\n",
    "        2. Else if the total portfolio value is equal to the emergency fund value, display a message congratulating the member on reaching this important financial goal.\n",
    "\n",
    "        3. Else the total portfolio is less than the emergency fund value, so display a message showing how many dollars away the member is from reaching the goal. (Subtract the total portfolio value from the emergency fund value.)\n"
   ]
  },
  {
   "cell_type": "markdown",
   "metadata": {},
   "source": [
    "#### Step 1: Create a Python list named `savings_data` that has two elements. The first element contains the total value of the cryptocurrency wallet. The second element contains the total value of the stock and bond portions of the portfolio."
   ]
  },
  {
   "cell_type": "code",
   "execution_count": 23,
   "metadata": {},
   "outputs": [
    {
     "name": "stdout",
     "output_type": "stream",
     "text": [
      "[69763.344, 71913.20000000001]\n"
     ]
    }
   ],
   "source": [
    "# Consolidates financial assets data into a Python list\n",
    "savings_data = [total_crypto_wallet, total_stocks_bonds]\n",
    "\n",
    "#sets amount parameter for Pandas DataFrame\n",
    "amount=[\"amount\"]\n",
    "\n",
    "# Prints the Python list savings_data\n",
    "print(savings_data)\n",
    "    "
   ]
  },
  {
   "cell_type": "markdown",
   "metadata": {},
   "source": [
    "#### Step 2: Use the `savings_data` list to create a Pandas DataFrame named `savings_df`, and then display this DataFrame. The function to create the DataFrame should take the following three parameters:\n",
    "\n",
    "- `savings_data`: Use the list that you just created.\n",
    "\n",
    "- `columns`: Set this parameter equal to a Python list with a single value called `amount`.\n",
    "\n",
    "- `index`: Set this parameter equal to a Python list with the values of `crypto` and `stock/bond`.\n"
   ]
  },
  {
   "cell_type": "code",
   "execution_count": 24,
   "metadata": {},
   "outputs": [
    {
     "data": {
      "text/html": [
       "<div>\n",
       "<style scoped>\n",
       "    .dataframe tbody tr th:only-of-type {\n",
       "        vertical-align: middle;\n",
       "    }\n",
       "\n",
       "    .dataframe tbody tr th {\n",
       "        vertical-align: top;\n",
       "    }\n",
       "\n",
       "    .dataframe thead th {\n",
       "        text-align: right;\n",
       "    }\n",
       "</style>\n",
       "<table border=\"1\" class=\"dataframe\">\n",
       "  <thead>\n",
       "    <tr style=\"text-align: right;\">\n",
       "      <th></th>\n",
       "      <th>amount</th>\n",
       "    </tr>\n",
       "  </thead>\n",
       "  <tbody>\n",
       "    <tr>\n",
       "      <th>crypto</th>\n",
       "      <td>69763.344</td>\n",
       "    </tr>\n",
       "    <tr>\n",
       "      <th>stock/bond</th>\n",
       "      <td>71913.200</td>\n",
       "    </tr>\n",
       "  </tbody>\n",
       "</table>\n",
       "</div>"
      ],
      "text/plain": [
       "               amount\n",
       "crypto      69763.344\n",
       "stock/bond  71913.200"
      ]
     },
     "metadata": {},
     "output_type": "display_data"
    }
   ],
   "source": [
    "# Creates a Pandas DataFrame called savings_df \n",
    "saving_df = pd.DataFrame(savings_data, columns=amount, index=[\"crypto\", \"stock/bond\"])\n",
    "\n",
    "# Displays the savings_df DataFrame\n",
    "display(saving_df)\n"
   ]
  },
  {
   "cell_type": "markdown",
   "metadata": {},
   "source": [
    "#### Step 3: Use the `savings_df` DataFrame to plot a pie chart that visualizes the composition of the member’s portfolio. The y-axis of the pie chart uses `amount`. Be sure to add a title."
   ]
  },
  {
   "cell_type": "code",
   "execution_count": 40,
   "metadata": {},
   "outputs": [
    {
     "data": {
      "text/plain": [
       "<AxesSubplot:title={'center':'Cryptocurrency and Stocks/Bonds Proportions'}, ylabel='amount'>"
      ]
     },
     "execution_count": 40,
     "metadata": {},
     "output_type": "execute_result"
    },
    {
     "data": {
      "image/png": "[encoded data removed]",
      "text/plain": [
       "<Figure size 432x288 with 1 Axes>"
      ]
     },
     "metadata": {
      "needs_background": "light"
     },
     "output_type": "display_data"
    }
   ],
   "source": [
    "# Plots the total value of the member's portfolio (crypto and stock/bond) in a pie chart\n",
    "saving_df.plot(kind=\"pie\", y=\"amount\", title=\"Cryptocurrency and Stocks/Bonds Proportions\", frame=True)\n",
    "\n",
    "#I couldn't figure out how to change the background color of the pie chart. It would only print with a transparent background\n",
    "#this is the only way I could get it to show a white background\n",
    "#Will ask instructor and update if I get an answer"
   ]
  },
  {
   "cell_type": "markdown",
   "metadata": {},
   "source": [
    "#### Step 4: Using Python, determine if the current portfolio has enough to create an emergency fund as part of the member’s financial plan. Ideally, an emergency fund should equal to three times the member’s monthly income. To do this, implement the following steps:\n",
    "\n",
    "Step 1. Create a variable named `emergency_fund_value`, and set it equal to three times the value of the member’s `monthly_income` of 12000. (You set this earlier in Part 1).\n",
    "\n",
    "Step 2. Create a series of three if statements to determine if the member’s total portfolio is large enough to fund the emergency portfolio:\n",
    "\n",
    "* If the total portfolio value is greater than the emergency fund value, display a message congratulating the member for having enough money in this fund.\n",
    "\n",
    "* Else if the total portfolio value is equal to the emergency fund value, display a message congratulating the member on reaching this important financial goal.\n",
    "\n",
    "* Else the total portfolio is less than the emergency fund value, so display a message showing how many dollars away the member is from reaching the goal. (Subtract the total portfolio value from the emergency fund value.)\n"
   ]
  },
  {
   "cell_type": "markdown",
   "metadata": {},
   "source": [
    "##### Step 4-1: Create a variable named `emergency_fund_value`, and set it equal to three times the value of the member’s `monthly_income` of 12000. (You set this earlier in Part 1)."
   ]
  },
  {
   "cell_type": "code",
   "execution_count": 58,
   "metadata": {},
   "outputs": [],
   "source": [
    "# Creates a variable named emergency_fund_value\n",
    "emergency_fund_value = 3 * monthly_income\n"
   ]
  },
  {
   "cell_type": "markdown",
   "metadata": {},
   "source": [
    "##### Step 4-2: Create a series of three if statements to determine if the member’s total portfolio is large enough to fund the emergency portfolio:\n",
    "\n",
    "* If the total portfolio value is greater than the emergency fund value, display a message congratulating the member for having enough money in this fund.\n",
    "\n",
    "* Else if the total portfolio value is equal to the emergency fund value, display a message congratulating the member on reaching this important financial goal.\n",
    "\n",
    "* Else the total portfolio is less than the emergency fund value, so display a message showing how many dollars away the member is from reaching the goal. (Subtract the total portfolio value from the emergency fund value.)"
   ]
  },
  {
   "cell_type": "code",
   "execution_count": 59,
   "metadata": {},
   "outputs": [
    {
     "name": "stdout",
     "output_type": "stream",
     "text": [
      "Congratulations! You have more than enough money for an emergency fund!\n"
     ]
    }
   ],
   "source": [
    "# Evaluates the possibility of creating an emergency fund with 3 conditions:\n",
    "if total_portfolio > emergency_fund_value:\n",
    "    print(\"Congratulations! You have more than enough money for an emergency fund!\")\n",
    "elif total_portfolio == emergency_fund_value:\n",
    "    print(\"Congratulations! You have reached your financial goal!\")\n",
    "elif total_portfolio < emergency_fund_value:\n",
    "    print(f\"You are ${emergency_fund_value - total_portfolio} away from your goal.\")\n",
    "\n"
   ]
  },
  {
   "cell_type": "markdown",
   "metadata": {},
   "source": [
    "## Part 2: Create a Financial Planner for Retirement"
   ]
  },
  {
   "cell_type": "markdown",
   "metadata": {},
   "source": [
    "### Create the Monte Carlo Simulation\n",
    "\n",
    "In this section, you’ll use the MCForecastTools library to create a Monte Carlo simulation for the member’s savings portfolio. To do this, complete the following steps:\n",
    "\n",
    "1. Make an API call via the Alpaca SDK to get 3 years of historical closing prices for a traditional 60/40 portfolio split: 60% stocks (SPY) and 40% bonds (AGG).\n",
    "\n",
    "2. Run a Monte Carlo simulation of 500 samples and 30 years for the 60/40 portfolio, and then plot the results.The following image shows the overlay line plot resulting from a simulation with these characteristics. However, because a random number generator is used to run each live Monte Carlo simulation, your image will differ slightly from this exact image:\n",
    "\n",
    "![A screenshot depicts the resulting plot.](Images/5-4-monte-carlo-line-plot.png)\n",
    "\n",
    "3. Plot the probability distribution of the Monte Carlo simulation. Plot the probability distribution of the Monte Carlo simulation. The following image shows the histogram plot resulting from a simulation with these characteristics. However, because a random number generator is used to run each live Monte Carlo simulation, your image will differ slightly from this exact image:\n",
    "\n",
    "![A screenshot depicts the histogram plot.](Images/5-4-monte-carlo-histogram.png)\n",
    "\n",
    "4. Generate the summary statistics for the Monte Carlo simulation.\n",
    "\n"
   ]
  },
  {
   "cell_type": "markdown",
   "metadata": {},
   "source": [
    "#### Step 1: Make an API call via the Alpaca SDK to get 3 years of historical closing prices for a traditional 60/40 portfolio split: 60% stocks (SPY) and 40% bonds (AGG)."
   ]
  },
  {
   "cell_type": "code",
   "execution_count": 65,
   "metadata": {},
   "outputs": [],
   "source": [
    "# Sets start and end dates of 3 years back from your current date \n",
    "start_date_3year = pd.Timestamp(\"2018-09-24\", tz =\"America/New_York\").isoformat()\n",
    "end_date_3year= pd.Timestamp(\"2021-09-24\", tz=\"America/New_York\").isoformat()\n",
    "\n",
    "\n",
    "# Sets number of rows to 1000 to retrieve the maximum amount of rows\n",
    "limit_rows = 1000"
   ]
  },
  {
   "cell_type": "code",
   "execution_count": 67,
   "metadata": {},
   "outputs": [
    {
     "data": {
      "text/html": [
       "<div>\n",
       "<style scoped>\n",
       "    .dataframe tbody tr th:only-of-type {\n",
       "        vertical-align: middle;\n",
       "    }\n",
       "\n",
       "    .dataframe tbody tr th {\n",
       "        vertical-align: top;\n",
       "    }\n",
       "\n",
       "    .dataframe thead tr th {\n",
       "        text-align: left;\n",
       "    }\n",
       "\n",
       "    .dataframe thead tr:last-of-type th {\n",
       "        text-align: right;\n",
       "    }\n",
       "</style>\n",
       "<table border=\"1\" class=\"dataframe\">\n",
       "  <thead>\n",
       "    <tr>\n",
       "      <th></th>\n",
       "      <th colspan=\"5\" halign=\"left\">AGG</th>\n",
       "      <th colspan=\"5\" halign=\"left\">SPY</th>\n",
       "    </tr>\n",
       "    <tr>\n",
       "      <th></th>\n",
       "      <th>open</th>\n",
       "      <th>high</th>\n",
       "      <th>low</th>\n",
       "      <th>close</th>\n",
       "      <th>volume</th>\n",
       "      <th>open</th>\n",
       "      <th>high</th>\n",
       "      <th>low</th>\n",
       "      <th>close</th>\n",
       "      <th>volume</th>\n",
       "    </tr>\n",
       "    <tr>\n",
       "      <th>time</th>\n",
       "      <th></th>\n",
       "      <th></th>\n",
       "      <th></th>\n",
       "      <th></th>\n",
       "      <th></th>\n",
       "      <th></th>\n",
       "      <th></th>\n",
       "      <th></th>\n",
       "      <th></th>\n",
       "      <th></th>\n",
       "    </tr>\n",
       "  </thead>\n",
       "  <tbody>\n",
       "    <tr>\n",
       "      <th>2018-09-24 00:00:00-04:00</th>\n",
       "      <td>105.33</td>\n",
       "      <td>105.46</td>\n",
       "      <td>105.3101</td>\n",
       "      <td>105.350</td>\n",
       "      <td>1771301.0</td>\n",
       "      <td>291.34</td>\n",
       "      <td>291.50</td>\n",
       "      <td>290.3700</td>\n",
       "      <td>291.07</td>\n",
       "      <td>37585070</td>\n",
       "    </tr>\n",
       "    <tr>\n",
       "      <th>2018-09-25 00:00:00-04:00</th>\n",
       "      <td>105.25</td>\n",
       "      <td>105.30</td>\n",
       "      <td>105.1800</td>\n",
       "      <td>105.290</td>\n",
       "      <td>1863777.0</td>\n",
       "      <td>291.53</td>\n",
       "      <td>291.65</td>\n",
       "      <td>290.4833</td>\n",
       "      <td>290.70</td>\n",
       "      <td>30128907</td>\n",
       "    </tr>\n",
       "    <tr>\n",
       "      <th>2018-09-26 00:00:00-04:00</th>\n",
       "      <td>105.37</td>\n",
       "      <td>105.60</td>\n",
       "      <td>105.3350</td>\n",
       "      <td>105.560</td>\n",
       "      <td>2626493.0</td>\n",
       "      <td>290.92</td>\n",
       "      <td>292.24</td>\n",
       "      <td>289.4100</td>\n",
       "      <td>289.84</td>\n",
       "      <td>53536102</td>\n",
       "    </tr>\n",
       "    <tr>\n",
       "      <th>2018-09-27 00:00:00-04:00</th>\n",
       "      <td>105.50</td>\n",
       "      <td>105.64</td>\n",
       "      <td>105.5000</td>\n",
       "      <td>105.625</td>\n",
       "      <td>2252805.0</td>\n",
       "      <td>290.44</td>\n",
       "      <td>291.91</td>\n",
       "      <td>290.1000</td>\n",
       "      <td>290.65</td>\n",
       "      <td>42099964</td>\n",
       "    </tr>\n",
       "    <tr>\n",
       "      <th>2018-09-28 00:00:00-04:00</th>\n",
       "      <td>105.69</td>\n",
       "      <td>105.71</td>\n",
       "      <td>105.5100</td>\n",
       "      <td>105.520</td>\n",
       "      <td>3859908.0</td>\n",
       "      <td>289.99</td>\n",
       "      <td>291.28</td>\n",
       "      <td>289.9500</td>\n",
       "      <td>290.61</td>\n",
       "      <td>49399177</td>\n",
       "    </tr>\n",
       "  </tbody>\n",
       "</table>\n",
       "</div>"
      ],
      "text/plain": [
       "                              AGG                                        \\\n",
       "                             open    high       low    close     volume   \n",
       "time                                                                      \n",
       "2018-09-24 00:00:00-04:00  105.33  105.46  105.3101  105.350  1771301.0   \n",
       "2018-09-25 00:00:00-04:00  105.25  105.30  105.1800  105.290  1863777.0   \n",
       "2018-09-26 00:00:00-04:00  105.37  105.60  105.3350  105.560  2626493.0   \n",
       "2018-09-27 00:00:00-04:00  105.50  105.64  105.5000  105.625  2252805.0   \n",
       "2018-09-28 00:00:00-04:00  105.69  105.71  105.5100  105.520  3859908.0   \n",
       "\n",
       "                              SPY                                      \n",
       "                             open    high       low   close    volume  \n",
       "time                                                                   \n",
       "2018-09-24 00:00:00-04:00  291.34  291.50  290.3700  291.07  37585070  \n",
       "2018-09-25 00:00:00-04:00  291.53  291.65  290.4833  290.70  30128907  \n",
       "2018-09-26 00:00:00-04:00  290.92  292.24  289.4100  289.84  53536102  \n",
       "2018-09-27 00:00:00-04:00  290.44  291.91  290.1000  290.65  42099964  \n",
       "2018-09-28 00:00:00-04:00  289.99  291.28  289.9500  290.61  49399177  "
      ]
     },
     "metadata": {},
     "output_type": "display_data"
    },
    {
     "data": {
      "text/html": [
       "<div>\n",
       "<style scoped>\n",
       "    .dataframe tbody tr th:only-of-type {\n",
       "        vertical-align: middle;\n",
       "    }\n",
       "\n",
       "    .dataframe tbody tr th {\n",
       "        vertical-align: top;\n",
       "    }\n",
       "\n",
       "    .dataframe thead tr th {\n",
       "        text-align: left;\n",
       "    }\n",
       "\n",
       "    .dataframe thead tr:last-of-type th {\n",
       "        text-align: right;\n",
       "    }\n",
       "</style>\n",
       "<table border=\"1\" class=\"dataframe\">\n",
       "  <thead>\n",
       "    <tr>\n",
       "      <th></th>\n",
       "      <th colspan=\"5\" halign=\"left\">AGG</th>\n",
       "      <th colspan=\"5\" halign=\"left\">SPY</th>\n",
       "    </tr>\n",
       "    <tr>\n",
       "      <th></th>\n",
       "      <th>open</th>\n",
       "      <th>high</th>\n",
       "      <th>low</th>\n",
       "      <th>close</th>\n",
       "      <th>volume</th>\n",
       "      <th>open</th>\n",
       "      <th>high</th>\n",
       "      <th>low</th>\n",
       "      <th>close</th>\n",
       "      <th>volume</th>\n",
       "    </tr>\n",
       "    <tr>\n",
       "      <th>time</th>\n",
       "      <th></th>\n",
       "      <th></th>\n",
       "      <th></th>\n",
       "      <th></th>\n",
       "      <th></th>\n",
       "      <th></th>\n",
       "      <th></th>\n",
       "      <th></th>\n",
       "      <th></th>\n",
       "      <th></th>\n",
       "    </tr>\n",
       "  </thead>\n",
       "  <tbody>\n",
       "    <tr>\n",
       "      <th>2021-09-20 00:00:00-04:00</th>\n",
       "      <td>116.02</td>\n",
       "      <td>116.1700</td>\n",
       "      <td>115.975</td>\n",
       "      <td>116.120</td>\n",
       "      <td>4463038.0</td>\n",
       "      <td>434.88</td>\n",
       "      <td>436.56</td>\n",
       "      <td>428.860</td>\n",
       "      <td>434.07</td>\n",
       "      <td>149948277</td>\n",
       "    </tr>\n",
       "    <tr>\n",
       "      <th>2021-09-21 00:00:00-04:00</th>\n",
       "      <td>116.13</td>\n",
       "      <td>116.1700</td>\n",
       "      <td>116.045</td>\n",
       "      <td>116.135</td>\n",
       "      <td>4455403.0</td>\n",
       "      <td>436.53</td>\n",
       "      <td>437.91</td>\n",
       "      <td>433.070</td>\n",
       "      <td>433.67</td>\n",
       "      <td>82418070</td>\n",
       "    </tr>\n",
       "    <tr>\n",
       "      <th>2021-09-22 00:00:00-04:00</th>\n",
       "      <td>116.11</td>\n",
       "      <td>116.2500</td>\n",
       "      <td>116.005</td>\n",
       "      <td>116.190</td>\n",
       "      <td>6079965.0</td>\n",
       "      <td>436.05</td>\n",
       "      <td>440.03</td>\n",
       "      <td>433.747</td>\n",
       "      <td>437.83</td>\n",
       "      <td>91135278</td>\n",
       "    </tr>\n",
       "    <tr>\n",
       "      <th>2021-09-23 00:00:00-04:00</th>\n",
       "      <td>115.93</td>\n",
       "      <td>115.9400</td>\n",
       "      <td>115.570</td>\n",
       "      <td>115.570</td>\n",
       "      <td>7516613.0</td>\n",
       "      <td>439.84</td>\n",
       "      <td>444.89</td>\n",
       "      <td>439.600</td>\n",
       "      <td>443.13</td>\n",
       "      <td>67408294</td>\n",
       "    </tr>\n",
       "    <tr>\n",
       "      <th>2021-09-24 00:00:00-04:00</th>\n",
       "      <td>115.50</td>\n",
       "      <td>115.5055</td>\n",
       "      <td>115.319</td>\n",
       "      <td>115.410</td>\n",
       "      <td>3388185.0</td>\n",
       "      <td>441.44</td>\n",
       "      <td>444.67</td>\n",
       "      <td>441.210</td>\n",
       "      <td>443.92</td>\n",
       "      <td>52199034</td>\n",
       "    </tr>\n",
       "  </tbody>\n",
       "</table>\n",
       "</div>"
      ],
      "text/plain": [
       "                              AGG                                         \\\n",
       "                             open      high      low    close     volume   \n",
       "time                                                                       \n",
       "2021-09-20 00:00:00-04:00  116.02  116.1700  115.975  116.120  4463038.0   \n",
       "2021-09-21 00:00:00-04:00  116.13  116.1700  116.045  116.135  4455403.0   \n",
       "2021-09-22 00:00:00-04:00  116.11  116.2500  116.005  116.190  6079965.0   \n",
       "2021-09-23 00:00:00-04:00  115.93  115.9400  115.570  115.570  7516613.0   \n",
       "2021-09-24 00:00:00-04:00  115.50  115.5055  115.319  115.410  3388185.0   \n",
       "\n",
       "                              SPY                                      \n",
       "                             open    high      low   close     volume  \n",
       "time                                                                   \n",
       "2021-09-20 00:00:00-04:00  434.88  436.56  428.860  434.07  149948277  \n",
       "2021-09-21 00:00:00-04:00  436.53  437.91  433.070  433.67   82418070  \n",
       "2021-09-22 00:00:00-04:00  436.05  440.03  433.747  437.83   91135278  \n",
       "2021-09-23 00:00:00-04:00  439.84  444.89  439.600  443.13   67408294  \n",
       "2021-09-24 00:00:00-04:00  441.44  444.67  441.210  443.92   52199034  "
      ]
     },
     "metadata": {},
     "output_type": "display_data"
    }
   ],
   "source": [
    "# Uses the Alpaca get_barset function to make the API call to get the 3 years worth of pricing data\n",
    "\n",
    "portfolio_mc_df = alpaca.get_barset(\n",
    "    tickers,\n",
    "    timeframe,\n",
    "    start= start_date_3year,\n",
    "    end = end_date_3year,\n",
    "    limit = limit_rows\n",
    ").df\n",
    "\n",
    "\n",
    "# Displays both the first and last five rows of the DataFrame\n",
    "display(portfolio_mc_df.head())\n",
    "display(portfolio_mc_df.tail())\n"
   ]
  },
  {
   "cell_type": "markdown",
   "metadata": {},
   "source": [
    "#### Step 2: Run a Monte Carlo simulation of 500 samples and 30 years for the 60/40 portfolio, and then plot the results."
   ]
  },
  {
   "cell_type": "code",
   "execution_count": 99,
   "metadata": {},
   "outputs": [
    {
     "data": {
      "text/html": [
       "<div>\n",
       "<style scoped>\n",
       "    .dataframe tbody tr th:only-of-type {\n",
       "        vertical-align: middle;\n",
       "    }\n",
       "\n",
       "    .dataframe tbody tr th {\n",
       "        vertical-align: top;\n",
       "    }\n",
       "\n",
       "    .dataframe thead tr th {\n",
       "        text-align: left;\n",
       "    }\n",
       "\n",
       "    .dataframe thead tr:last-of-type th {\n",
       "        text-align: right;\n",
       "    }\n",
       "</style>\n",
       "<table border=\"1\" class=\"dataframe\">\n",
       "  <thead>\n",
       "    <tr>\n",
       "      <th></th>\n",
       "      <th colspan=\"6\" halign=\"left\">AGG</th>\n",
       "      <th colspan=\"6\" halign=\"left\">SPY</th>\n",
       "    </tr>\n",
       "    <tr>\n",
       "      <th></th>\n",
       "      <th>open</th>\n",
       "      <th>high</th>\n",
       "      <th>low</th>\n",
       "      <th>close</th>\n",
       "      <th>volume</th>\n",
       "      <th>daily_return</th>\n",
       "      <th>open</th>\n",
       "      <th>high</th>\n",
       "      <th>low</th>\n",
       "      <th>close</th>\n",
       "      <th>volume</th>\n",
       "      <th>daily_return</th>\n",
       "    </tr>\n",
       "    <tr>\n",
       "      <th>time</th>\n",
       "      <th></th>\n",
       "      <th></th>\n",
       "      <th></th>\n",
       "      <th></th>\n",
       "      <th></th>\n",
       "      <th></th>\n",
       "      <th></th>\n",
       "      <th></th>\n",
       "      <th></th>\n",
       "      <th></th>\n",
       "      <th></th>\n",
       "      <th></th>\n",
       "    </tr>\n",
       "  </thead>\n",
       "  <tbody>\n",
       "    <tr>\n",
       "      <th>2018-09-24 00:00:00-04:00</th>\n",
       "      <td>105.33</td>\n",
       "      <td>105.46</td>\n",
       "      <td>105.3101</td>\n",
       "      <td>105.350</td>\n",
       "      <td>1771301.0</td>\n",
       "      <td>NaN</td>\n",
       "      <td>291.34</td>\n",
       "      <td>291.50</td>\n",
       "      <td>290.3700</td>\n",
       "      <td>291.07</td>\n",
       "      <td>37585070</td>\n",
       "      <td>NaN</td>\n",
       "    </tr>\n",
       "    <tr>\n",
       "      <th>2018-09-25 00:00:00-04:00</th>\n",
       "      <td>105.25</td>\n",
       "      <td>105.30</td>\n",
       "      <td>105.1800</td>\n",
       "      <td>105.290</td>\n",
       "      <td>1863777.0</td>\n",
       "      <td>-0.000570</td>\n",
       "      <td>291.53</td>\n",
       "      <td>291.65</td>\n",
       "      <td>290.4833</td>\n",
       "      <td>290.70</td>\n",
       "      <td>30128907</td>\n",
       "      <td>-0.001271</td>\n",
       "    </tr>\n",
       "    <tr>\n",
       "      <th>2018-09-26 00:00:00-04:00</th>\n",
       "      <td>105.37</td>\n",
       "      <td>105.60</td>\n",
       "      <td>105.3350</td>\n",
       "      <td>105.560</td>\n",
       "      <td>2626493.0</td>\n",
       "      <td>0.002564</td>\n",
       "      <td>290.92</td>\n",
       "      <td>292.24</td>\n",
       "      <td>289.4100</td>\n",
       "      <td>289.84</td>\n",
       "      <td>53536102</td>\n",
       "      <td>-0.002958</td>\n",
       "    </tr>\n",
       "    <tr>\n",
       "      <th>2018-09-27 00:00:00-04:00</th>\n",
       "      <td>105.50</td>\n",
       "      <td>105.64</td>\n",
       "      <td>105.5000</td>\n",
       "      <td>105.625</td>\n",
       "      <td>2252805.0</td>\n",
       "      <td>0.000616</td>\n",
       "      <td>290.44</td>\n",
       "      <td>291.91</td>\n",
       "      <td>290.1000</td>\n",
       "      <td>290.65</td>\n",
       "      <td>42099964</td>\n",
       "      <td>0.002795</td>\n",
       "    </tr>\n",
       "    <tr>\n",
       "      <th>2018-09-28 00:00:00-04:00</th>\n",
       "      <td>105.69</td>\n",
       "      <td>105.71</td>\n",
       "      <td>105.5100</td>\n",
       "      <td>105.520</td>\n",
       "      <td>3859908.0</td>\n",
       "      <td>-0.000994</td>\n",
       "      <td>289.99</td>\n",
       "      <td>291.28</td>\n",
       "      <td>289.9500</td>\n",
       "      <td>290.61</td>\n",
       "      <td>49399177</td>\n",
       "      <td>-0.000138</td>\n",
       "    </tr>\n",
       "  </tbody>\n",
       "</table>\n",
       "</div>"
      ],
      "text/plain": [
       "                              AGG                                        \\\n",
       "                             open    high       low    close     volume   \n",
       "time                                                                      \n",
       "2018-09-24 00:00:00-04:00  105.33  105.46  105.3101  105.350  1771301.0   \n",
       "2018-09-25 00:00:00-04:00  105.25  105.30  105.1800  105.290  1863777.0   \n",
       "2018-09-26 00:00:00-04:00  105.37  105.60  105.3350  105.560  2626493.0   \n",
       "2018-09-27 00:00:00-04:00  105.50  105.64  105.5000  105.625  2252805.0   \n",
       "2018-09-28 00:00:00-04:00  105.69  105.71  105.5100  105.520  3859908.0   \n",
       "\n",
       "                                           SPY                            \\\n",
       "                          daily_return    open    high       low   close   \n",
       "time                                                                       \n",
       "2018-09-24 00:00:00-04:00          NaN  291.34  291.50  290.3700  291.07   \n",
       "2018-09-25 00:00:00-04:00    -0.000570  291.53  291.65  290.4833  290.70   \n",
       "2018-09-26 00:00:00-04:00     0.002564  290.92  292.24  289.4100  289.84   \n",
       "2018-09-27 00:00:00-04:00     0.000616  290.44  291.91  290.1000  290.65   \n",
       "2018-09-28 00:00:00-04:00    -0.000994  289.99  291.28  289.9500  290.61   \n",
       "\n",
       "                                                  \n",
       "                             volume daily_return  \n",
       "time                                              \n",
       "2018-09-24 00:00:00-04:00  37585070          NaN  \n",
       "2018-09-25 00:00:00-04:00  30128907    -0.001271  \n",
       "2018-09-26 00:00:00-04:00  53536102    -0.002958  \n",
       "2018-09-27 00:00:00-04:00  42099964     0.002795  \n",
       "2018-09-28 00:00:00-04:00  49399177    -0.000138  "
      ]
     },
     "execution_count": 99,
     "metadata": {},
     "output_type": "execute_result"
    }
   ],
   "source": [
    "# Configures the Monte Carlo simulation to forecast 30 years cumulative returns\n",
    "# The weights should be split 40% to AGG and 60% to SPY.\n",
    "# Running 500 samples\n",
    "mc_thirtyyear = MCSimulation(\n",
    "    portfolio_data = portfolio_mc_df,\n",
    "    weights = [.40,.60],\n",
    "    num_simulation=500,\n",
    "    num_trading_days=252*30\n",
    ")\n",
    "\n",
    "# Reviews the simulation input data\n",
    "mc_thirtyyear.portfolio_data.head()\n"
   ]
  },
  {
   "cell_type": "code",
   "execution_count": 77,
   "metadata": {},
   "outputs": [
    {
     "name": "stdout",
     "output_type": "stream",
     "text": [
      "Running Monte Carlo simulation number 0.\n",
      "Running Monte Carlo simulation number 10.\n",
      "Running Monte Carlo simulation number 20.\n",
      "Running Monte Carlo simulation number 30.\n",
      "Running Monte Carlo simulation number 40.\n",
      "Running Monte Carlo simulation number 50.\n",
      "Running Monte Carlo simulation number 60.\n",
      "Running Monte Carlo simulation number 70.\n",
      "Running Monte Carlo simulation number 80.\n",
      "Running Monte Carlo simulation number 90.\n",
      "Running Monte Carlo simulation number 100.\n",
      "Running Monte Carlo simulation number 110.\n",
      "Running Monte Carlo simulation number 120.\n",
      "Running Monte Carlo simulation number 130.\n",
      "Running Monte Carlo simulation number 140.\n",
      "Running Monte Carlo simulation number 150.\n",
      "Running Monte Carlo simulation number 160.\n",
      "Running Monte Carlo simulation number 170.\n",
      "Running Monte Carlo simulation number 180.\n",
      "Running Monte Carlo simulation number 190.\n",
      "Running Monte Carlo simulation number 200.\n",
      "Running Monte Carlo simulation number 210.\n",
      "Running Monte Carlo simulation number 220.\n",
      "Running Monte Carlo simulation number 230.\n",
      "Running Monte Carlo simulation number 240.\n",
      "Running Monte Carlo simulation number 250.\n",
      "Running Monte Carlo simulation number 260.\n",
      "Running Monte Carlo simulation number 270.\n",
      "Running Monte Carlo simulation number 280.\n",
      "Running Monte Carlo simulation number 290.\n",
      "Running Monte Carlo simulation number 300.\n",
      "Running Monte Carlo simulation number 310.\n",
      "Running Monte Carlo simulation number 320.\n",
      "Running Monte Carlo simulation number 330.\n",
      "Running Monte Carlo simulation number 340.\n",
      "Running Monte Carlo simulation number 350.\n",
      "Running Monte Carlo simulation number 360.\n",
      "Running Monte Carlo simulation number 370.\n",
      "Running Monte Carlo simulation number 380.\n",
      "Running Monte Carlo simulation number 390.\n",
      "Running Monte Carlo simulation number 400.\n",
      "Running Monte Carlo simulation number 410.\n",
      "Running Monte Carlo simulation number 420.\n",
      "Running Monte Carlo simulation number 430.\n",
      "Running Monte Carlo simulation number 440.\n",
      "Running Monte Carlo simulation number 450.\n",
      "Running Monte Carlo simulation number 460.\n",
      "Running Monte Carlo simulation number 470.\n",
      "Running Monte Carlo simulation number 480.\n",
      "Running Monte Carlo simulation number 490.\n"
     ]
    },
    {
     "data": {
      "text/html": [
       "<div>\n",
       "<style scoped>\n",
       "    .dataframe tbody tr th:only-of-type {\n",
       "        vertical-align: middle;\n",
       "    }\n",
       "\n",
       "    .dataframe tbody tr th {\n",
       "        vertical-align: top;\n",
       "    }\n",
       "\n",
       "    .dataframe thead th {\n",
       "        text-align: right;\n",
       "    }\n",
       "</style>\n",
       "<table border=\"1\" class=\"dataframe\">\n",
       "  <thead>\n",
       "    <tr style=\"text-align: right;\">\n",
       "      <th></th>\n",
       "      <th>0</th>\n",
       "      <th>1</th>\n",
       "      <th>2</th>\n",
       "      <th>3</th>\n",
       "      <th>4</th>\n",
       "      <th>5</th>\n",
       "      <th>6</th>\n",
       "      <th>7</th>\n",
       "      <th>8</th>\n",
       "      <th>9</th>\n",
       "      <th>...</th>\n",
       "      <th>490</th>\n",
       "      <th>491</th>\n",
       "      <th>492</th>\n",
       "      <th>493</th>\n",
       "      <th>494</th>\n",
       "      <th>495</th>\n",
       "      <th>496</th>\n",
       "      <th>497</th>\n",
       "      <th>498</th>\n",
       "      <th>499</th>\n",
       "    </tr>\n",
       "  </thead>\n",
       "  <tbody>\n",
       "    <tr>\n",
       "      <th>0</th>\n",
       "      <td>1.000000</td>\n",
       "      <td>1.000000</td>\n",
       "      <td>1.000000</td>\n",
       "      <td>1.000000</td>\n",
       "      <td>1.000000</td>\n",
       "      <td>1.000000</td>\n",
       "      <td>1.000000</td>\n",
       "      <td>1.000000</td>\n",
       "      <td>1.000000</td>\n",
       "      <td>1.000000</td>\n",
       "      <td>...</td>\n",
       "      <td>1.000000</td>\n",
       "      <td>1.000000</td>\n",
       "      <td>1.000000</td>\n",
       "      <td>1.000000</td>\n",
       "      <td>1.000000</td>\n",
       "      <td>1.000000</td>\n",
       "      <td>1.000000</td>\n",
       "      <td>1.000000</td>\n",
       "      <td>1.000000</td>\n",
       "      <td>1.000000</td>\n",
       "    </tr>\n",
       "    <tr>\n",
       "      <th>1</th>\n",
       "      <td>1.003093</td>\n",
       "      <td>0.991194</td>\n",
       "      <td>0.996707</td>\n",
       "      <td>1.008092</td>\n",
       "      <td>1.007925</td>\n",
       "      <td>0.981712</td>\n",
       "      <td>0.995824</td>\n",
       "      <td>1.002348</td>\n",
       "      <td>1.021946</td>\n",
       "      <td>1.005579</td>\n",
       "      <td>...</td>\n",
       "      <td>1.000900</td>\n",
       "      <td>0.993787</td>\n",
       "      <td>0.998347</td>\n",
       "      <td>1.003461</td>\n",
       "      <td>1.011056</td>\n",
       "      <td>0.995343</td>\n",
       "      <td>1.017129</td>\n",
       "      <td>0.998130</td>\n",
       "      <td>1.010932</td>\n",
       "      <td>0.989160</td>\n",
       "    </tr>\n",
       "    <tr>\n",
       "      <th>2</th>\n",
       "      <td>1.000212</td>\n",
       "      <td>0.979524</td>\n",
       "      <td>0.989914</td>\n",
       "      <td>1.027593</td>\n",
       "      <td>1.014474</td>\n",
       "      <td>0.979776</td>\n",
       "      <td>1.006246</td>\n",
       "      <td>0.998507</td>\n",
       "      <td>1.026537</td>\n",
       "      <td>1.015036</td>\n",
       "      <td>...</td>\n",
       "      <td>0.989425</td>\n",
       "      <td>0.983043</td>\n",
       "      <td>1.006187</td>\n",
       "      <td>1.011682</td>\n",
       "      <td>1.013925</td>\n",
       "      <td>0.995085</td>\n",
       "      <td>1.018432</td>\n",
       "      <td>1.005832</td>\n",
       "      <td>1.011281</td>\n",
       "      <td>0.972903</td>\n",
       "    </tr>\n",
       "    <tr>\n",
       "      <th>3</th>\n",
       "      <td>0.991145</td>\n",
       "      <td>0.970358</td>\n",
       "      <td>0.977497</td>\n",
       "      <td>1.032449</td>\n",
       "      <td>1.008388</td>\n",
       "      <td>0.972222</td>\n",
       "      <td>0.998880</td>\n",
       "      <td>1.012884</td>\n",
       "      <td>1.026431</td>\n",
       "      <td>1.014604</td>\n",
       "      <td>...</td>\n",
       "      <td>0.988786</td>\n",
       "      <td>0.990890</td>\n",
       "      <td>1.002784</td>\n",
       "      <td>1.013803</td>\n",
       "      <td>1.013591</td>\n",
       "      <td>1.001457</td>\n",
       "      <td>1.022452</td>\n",
       "      <td>1.008860</td>\n",
       "      <td>1.010819</td>\n",
       "      <td>0.976958</td>\n",
       "    </tr>\n",
       "    <tr>\n",
       "      <th>4</th>\n",
       "      <td>0.987713</td>\n",
       "      <td>0.980293</td>\n",
       "      <td>0.977575</td>\n",
       "      <td>1.022371</td>\n",
       "      <td>1.024898</td>\n",
       "      <td>0.966490</td>\n",
       "      <td>1.011942</td>\n",
       "      <td>1.003063</td>\n",
       "      <td>1.025104</td>\n",
       "      <td>1.002037</td>\n",
       "      <td>...</td>\n",
       "      <td>0.977651</td>\n",
       "      <td>0.989712</td>\n",
       "      <td>0.999583</td>\n",
       "      <td>1.016517</td>\n",
       "      <td>1.007369</td>\n",
       "      <td>0.999475</td>\n",
       "      <td>1.028908</td>\n",
       "      <td>1.006969</td>\n",
       "      <td>1.020235</td>\n",
       "      <td>0.974559</td>\n",
       "    </tr>\n",
       "    <tr>\n",
       "      <th>...</th>\n",
       "      <td>...</td>\n",
       "      <td>...</td>\n",
       "      <td>...</td>\n",
       "      <td>...</td>\n",
       "      <td>...</td>\n",
       "      <td>...</td>\n",
       "      <td>...</td>\n",
       "      <td>...</td>\n",
       "      <td>...</td>\n",
       "      <td>...</td>\n",
       "      <td>...</td>\n",
       "      <td>...</td>\n",
       "      <td>...</td>\n",
       "      <td>...</td>\n",
       "      <td>...</td>\n",
       "      <td>...</td>\n",
       "      <td>...</td>\n",
       "      <td>...</td>\n",
       "      <td>...</td>\n",
       "      <td>...</td>\n",
       "      <td>...</td>\n",
       "    </tr>\n",
       "    <tr>\n",
       "      <th>7556</th>\n",
       "      <td>13.481941</td>\n",
       "      <td>17.285735</td>\n",
       "      <td>30.536691</td>\n",
       "      <td>41.225985</td>\n",
       "      <td>23.078815</td>\n",
       "      <td>14.879880</td>\n",
       "      <td>23.906002</td>\n",
       "      <td>64.062294</td>\n",
       "      <td>116.181903</td>\n",
       "      <td>13.000520</td>\n",
       "      <td>...</td>\n",
       "      <td>5.502610</td>\n",
       "      <td>20.552497</td>\n",
       "      <td>11.716105</td>\n",
       "      <td>33.921657</td>\n",
       "      <td>52.908724</td>\n",
       "      <td>34.547730</td>\n",
       "      <td>23.958273</td>\n",
       "      <td>4.299487</td>\n",
       "      <td>8.417152</td>\n",
       "      <td>11.723506</td>\n",
       "    </tr>\n",
       "    <tr>\n",
       "      <th>7557</th>\n",
       "      <td>13.725251</td>\n",
       "      <td>17.335294</td>\n",
       "      <td>30.885921</td>\n",
       "      <td>41.418394</td>\n",
       "      <td>23.340968</td>\n",
       "      <td>14.856828</td>\n",
       "      <td>23.841808</td>\n",
       "      <td>64.448863</td>\n",
       "      <td>115.689444</td>\n",
       "      <td>13.173030</td>\n",
       "      <td>...</td>\n",
       "      <td>5.540419</td>\n",
       "      <td>20.811424</td>\n",
       "      <td>11.844743</td>\n",
       "      <td>33.619178</td>\n",
       "      <td>52.994994</td>\n",
       "      <td>34.422628</td>\n",
       "      <td>23.900799</td>\n",
       "      <td>4.304696</td>\n",
       "      <td>8.445544</td>\n",
       "      <td>11.832620</td>\n",
       "    </tr>\n",
       "    <tr>\n",
       "      <th>7558</th>\n",
       "      <td>13.599276</td>\n",
       "      <td>17.300178</td>\n",
       "      <td>31.185356</td>\n",
       "      <td>41.648159</td>\n",
       "      <td>23.159498</td>\n",
       "      <td>14.773620</td>\n",
       "      <td>23.850626</td>\n",
       "      <td>65.366312</td>\n",
       "      <td>116.396026</td>\n",
       "      <td>13.319390</td>\n",
       "      <td>...</td>\n",
       "      <td>5.588346</td>\n",
       "      <td>20.676355</td>\n",
       "      <td>11.772779</td>\n",
       "      <td>33.716085</td>\n",
       "      <td>53.408959</td>\n",
       "      <td>33.758665</td>\n",
       "      <td>24.103830</td>\n",
       "      <td>4.265864</td>\n",
       "      <td>8.549509</td>\n",
       "      <td>11.802047</td>\n",
       "    </tr>\n",
       "    <tr>\n",
       "      <th>7559</th>\n",
       "      <td>13.770587</td>\n",
       "      <td>17.532376</td>\n",
       "      <td>31.321559</td>\n",
       "      <td>42.163057</td>\n",
       "      <td>22.859953</td>\n",
       "      <td>14.780545</td>\n",
       "      <td>23.949202</td>\n",
       "      <td>65.827230</td>\n",
       "      <td>114.895941</td>\n",
       "      <td>13.177031</td>\n",
       "      <td>...</td>\n",
       "      <td>5.573910</td>\n",
       "      <td>20.620124</td>\n",
       "      <td>11.804809</td>\n",
       "      <td>33.487801</td>\n",
       "      <td>53.059399</td>\n",
       "      <td>33.517612</td>\n",
       "      <td>24.031634</td>\n",
       "      <td>4.332065</td>\n",
       "      <td>8.501504</td>\n",
       "      <td>11.756675</td>\n",
       "    </tr>\n",
       "    <tr>\n",
       "      <th>7560</th>\n",
       "      <td>13.700419</td>\n",
       "      <td>17.610193</td>\n",
       "      <td>31.715449</td>\n",
       "      <td>41.809167</td>\n",
       "      <td>22.740033</td>\n",
       "      <td>14.746303</td>\n",
       "      <td>24.023306</td>\n",
       "      <td>65.423662</td>\n",
       "      <td>114.047287</td>\n",
       "      <td>13.158909</td>\n",
       "      <td>...</td>\n",
       "      <td>5.573132</td>\n",
       "      <td>20.629322</td>\n",
       "      <td>11.707159</td>\n",
       "      <td>33.302671</td>\n",
       "      <td>53.427632</td>\n",
       "      <td>33.362418</td>\n",
       "      <td>23.597949</td>\n",
       "      <td>4.360137</td>\n",
       "      <td>8.464512</td>\n",
       "      <td>11.650618</td>\n",
       "    </tr>\n",
       "  </tbody>\n",
       "</table>\n",
       "<p>7561 rows × 500 columns</p>\n",
       "</div>"
      ],
      "text/plain": [
       "            0          1          2          3          4          5    \\\n",
       "0      1.000000   1.000000   1.000000   1.000000   1.000000   1.000000   \n",
       "1      1.003093   0.991194   0.996707   1.008092   1.007925   0.981712   \n",
       "2      1.000212   0.979524   0.989914   1.027593   1.014474   0.979776   \n",
       "3      0.991145   0.970358   0.977497   1.032449   1.008388   0.972222   \n",
       "4      0.987713   0.980293   0.977575   1.022371   1.024898   0.966490   \n",
       "...         ...        ...        ...        ...        ...        ...   \n",
       "7556  13.481941  17.285735  30.536691  41.225985  23.078815  14.879880   \n",
       "7557  13.725251  17.335294  30.885921  41.418394  23.340968  14.856828   \n",
       "7558  13.599276  17.300178  31.185356  41.648159  23.159498  14.773620   \n",
       "7559  13.770587  17.532376  31.321559  42.163057  22.859953  14.780545   \n",
       "7560  13.700419  17.610193  31.715449  41.809167  22.740033  14.746303   \n",
       "\n",
       "            6          7           8          9    ...       490        491  \\\n",
       "0      1.000000   1.000000    1.000000   1.000000  ...  1.000000   1.000000   \n",
       "1      0.995824   1.002348    1.021946   1.005579  ...  1.000900   0.993787   \n",
       "2      1.006246   0.998507    1.026537   1.015036  ...  0.989425   0.983043   \n",
       "3      0.998880   1.012884    1.026431   1.014604  ...  0.988786   0.990890   \n",
       "4      1.011942   1.003063    1.025104   1.002037  ...  0.977651   0.989712   \n",
       "...         ...        ...         ...        ...  ...       ...        ...   \n",
       "7556  23.906002  64.062294  116.181903  13.000520  ...  5.502610  20.552497   \n",
       "7557  23.841808  64.448863  115.689444  13.173030  ...  5.540419  20.811424   \n",
       "7558  23.850626  65.366312  116.396026  13.319390  ...  5.588346  20.676355   \n",
       "7559  23.949202  65.827230  114.895941  13.177031  ...  5.573910  20.620124   \n",
       "7560  24.023306  65.423662  114.047287  13.158909  ...  5.573132  20.629322   \n",
       "\n",
       "            492        493        494        495        496       497  \\\n",
       "0      1.000000   1.000000   1.000000   1.000000   1.000000  1.000000   \n",
       "1      0.998347   1.003461   1.011056   0.995343   1.017129  0.998130   \n",
       "2      1.006187   1.011682   1.013925   0.995085   1.018432  1.005832   \n",
       "3      1.002784   1.013803   1.013591   1.001457   1.022452  1.008860   \n",
       "4      0.999583   1.016517   1.007369   0.999475   1.028908  1.006969   \n",
       "...         ...        ...        ...        ...        ...       ...   \n",
       "7556  11.716105  33.921657  52.908724  34.547730  23.958273  4.299487   \n",
       "7557  11.844743  33.619178  52.994994  34.422628  23.900799  4.304696   \n",
       "7558  11.772779  33.716085  53.408959  33.758665  24.103830  4.265864   \n",
       "7559  11.804809  33.487801  53.059399  33.517612  24.031634  4.332065   \n",
       "7560  11.707159  33.302671  53.427632  33.362418  23.597949  4.360137   \n",
       "\n",
       "           498        499  \n",
       "0     1.000000   1.000000  \n",
       "1     1.010932   0.989160  \n",
       "2     1.011281   0.972903  \n",
       "3     1.010819   0.976958  \n",
       "4     1.020235   0.974559  \n",
       "...        ...        ...  \n",
       "7556  8.417152  11.723506  \n",
       "7557  8.445544  11.832620  \n",
       "7558  8.549509  11.802047  \n",
       "7559  8.501504  11.756675  \n",
       "7560  8.464512  11.650618  \n",
       "\n",
       "[7561 rows x 500 columns]"
      ]
     },
     "execution_count": 77,
     "metadata": {},
     "output_type": "execute_result"
    }
   ],
   "source": [
    "# Runs the Monte Carlo simulation to forecast 30 years cumulative returns\n",
    "mc_thirtyyear.calc_cumulative_return()\n"
   ]
  },
  {
   "cell_type": "code",
   "execution_count": 90,
   "metadata": {},
   "outputs": [
    {
     "data": {
      "image/png": "[encoded data removed]",
      "text/plain": [
       "<Figure size 432x288 with 1 Axes>"
      ]
     },
     "metadata": {
      "needs_background": "light"
     },
     "output_type": "display_data"
    }
   ],
   "source": [
    "# Visualizes the 30-year Monte Carlo simulation by creating an\n",
    "# overlay line plot\n",
    "mc_thirty_plot = mc_thirtyyear.plot_simulation()\n"
   ]
  },
  {
   "cell_type": "markdown",
   "metadata": {},
   "source": [
    "#### Step 3: Plot the probability distribution of the Monte Carlo simulation."
   ]
  },
  {
   "cell_type": "code",
   "execution_count": 91,
   "metadata": {},
   "outputs": [
    {
     "data": {
      "image/png": "[encoded data removed]",
      "text/plain": [
       "<Figure size 432x288 with 1 Axes>"
      ]
     },
     "metadata": {
      "needs_background": "light"
     },
     "output_type": "display_data"
    }
   ],
   "source": [
    "# Visualizes the probability distribution of the 30-year Monte Carlo simulation \n",
    "mc_thirty_dis = mc_thirtyyear.plot_distribution()\n"
   ]
  },
  {
   "cell_type": "markdown",
   "metadata": {},
   "source": [
    "#### Step 4: Generate the summary statistics for the Monte Carlo simulation."
   ]
  },
  {
   "cell_type": "code",
   "execution_count": 94,
   "metadata": {},
   "outputs": [
    {
     "name": "stdout",
     "output_type": "stream",
     "text": [
      "count           500.000000\n",
      "mean             31.384843\n",
      "std              27.255371\n",
      "min               2.693566\n",
      "25%              14.745982\n",
      "50%              23.756807\n",
      "75%              39.081311\n",
      "max             216.265221\n",
      "95% CI Lower      5.574124\n",
      "95% CI Upper     97.133880\n",
      "Name: 7560, dtype: float64\n"
     ]
    }
   ],
   "source": [
    "# Generates summary statistics from the 30-year Monte Carlo simulation results\n",
    "mc_thirtyyear_summary = mc_thirtyyear.summarize_cumulative_return()\n",
    "\n",
    "\n",
    "\n",
    "# Reviews the 30-year Monte Carlo summary statistics\n",
    "print(mc_thirtyyear_summary)"
   ]
  },
  {
   "cell_type": "markdown",
   "metadata": {},
   "source": [
    "### Analyze the Retirement Portfolio Forecasts\n",
    "\n",
    "Using the current value of only the stock and bond portion of the member's portfolio and the summary statistics that you generated from the Monte Carlo simulation, answer the following question in your Jupyter notebook:\n",
    "\n",
    "-  What are the lower and upper bounds for the expected value of the portfolio with a 95% confidence interval?\n"
   ]
  },
  {
   "cell_type": "code",
   "execution_count": 96,
   "metadata": {},
   "outputs": [
    {
     "name": "stdout",
     "output_type": "stream",
     "text": [
      "The current balance of the stocks/bonds portfolio is 71913.20\n"
     ]
    }
   ],
   "source": [
    "# Prints the current balance of the stock and bond portion of the members portfolio\n",
    "print(f\"The current balance of the stocks/bonds portfolio is {total_stocks_bonds:.2f}.\")"
   ]
  },
  {
   "cell_type": "code",
   "execution_count": 98,
   "metadata": {},
   "outputs": [
    {
     "name": "stdout",
     "output_type": "stream",
     "text": [
      "The possible return for the stocsk/bonds portfolio is between $400853.11 and $6985208.14\n"
     ]
    }
   ],
   "source": [
    "# Uses the lower and upper `95%` confidence intervals to calculate the range of the possible outcomes for the current stock/bond portfolio\n",
    "ci_lower_thirty_cumulative_return = mc_thirtyyear_summary[8] * total_stocks_bonds\n",
    "ci_upper_thirty_cumulative_return = mc_thirtyyear_summary[9] * total_stocks_bonds\n",
    "\n",
    "# Prints the result of your calculations\n",
    "print(f\"The possible return for the stocsk/bonds portfolio is between ${ci_lower_thirty_cumulative_return:.2f} and ${ci_upper_thirty_cumulative_return:.2f}.\")"
   ]
  },
  {
   "cell_type": "markdown",
   "metadata": {},
   "source": [
    "### Forecast Cumulative Returns in 10 Years\n",
    "\n",
    "The CTO of the credit union is impressed with your work on these planning tools but wonders if 30 years is a long time to wait until retirement. So, your next task is to adjust the retirement portfolio and run a new Monte Carlo simulation to find out if the changes will allow members to retire earlier.\n",
    "\n",
    "For this new Monte Carlo simulation, do the following: \n",
    "\n",
    "- Forecast the cumulative returns for 10 years from now. Because of the shortened investment horizon (30 years to 10 years), the portfolio needs to invest more heavily in the riskier asset&mdash;that is, stock&mdash;to help accumulate wealth for retirement. \n",
    "\n",
    "- Adjust the weights of the retirement portfolio so that the composition for the Monte Carlo simulation consists of 20% bonds and 80% stocks. \n",
    "\n",
    "- Run the simulation over 500 samples, and use the same data that the API call to Alpaca generated.\n",
    "\n",
    "- Based on the new Monte Carlo simulation, answer the following questions in your Jupyter notebook:\n",
    "\n",
    "    - Using the current value of only the stock and bond portion of the member's portfolio and the summary statistics that you generated from the new Monte Carlo simulation, what are the lower and upper bounds for the expected value of the portfolio (with the new weights) with a 95% confidence interval?\n",
    "\n",
    "    - Will weighting the portfolio more heavily toward stocks allow the credit union members to retire after only 10 years?\n"
   ]
  },
  {
   "cell_type": "code",
   "execution_count": 100,
   "metadata": {},
   "outputs": [
    {
     "data": {
      "text/html": [
       "<div>\n",
       "<style scoped>\n",
       "    .dataframe tbody tr th:only-of-type {\n",
       "        vertical-align: middle;\n",
       "    }\n",
       "\n",
       "    .dataframe tbody tr th {\n",
       "        vertical-align: top;\n",
       "    }\n",
       "\n",
       "    .dataframe thead tr th {\n",
       "        text-align: left;\n",
       "    }\n",
       "\n",
       "    .dataframe thead tr:last-of-type th {\n",
       "        text-align: right;\n",
       "    }\n",
       "</style>\n",
       "<table border=\"1\" class=\"dataframe\">\n",
       "  <thead>\n",
       "    <tr>\n",
       "      <th></th>\n",
       "      <th colspan=\"6\" halign=\"left\">AGG</th>\n",
       "      <th colspan=\"6\" halign=\"left\">SPY</th>\n",
       "    </tr>\n",
       "    <tr>\n",
       "      <th></th>\n",
       "      <th>open</th>\n",
       "      <th>high</th>\n",
       "      <th>low</th>\n",
       "      <th>close</th>\n",
       "      <th>volume</th>\n",
       "      <th>daily_return</th>\n",
       "      <th>open</th>\n",
       "      <th>high</th>\n",
       "      <th>low</th>\n",
       "      <th>close</th>\n",
       "      <th>volume</th>\n",
       "      <th>daily_return</th>\n",
       "    </tr>\n",
       "    <tr>\n",
       "      <th>time</th>\n",
       "      <th></th>\n",
       "      <th></th>\n",
       "      <th></th>\n",
       "      <th></th>\n",
       "      <th></th>\n",
       "      <th></th>\n",
       "      <th></th>\n",
       "      <th></th>\n",
       "      <th></th>\n",
       "      <th></th>\n",
       "      <th></th>\n",
       "      <th></th>\n",
       "    </tr>\n",
       "  </thead>\n",
       "  <tbody>\n",
       "    <tr>\n",
       "      <th>2018-09-24 00:00:00-04:00</th>\n",
       "      <td>105.33</td>\n",
       "      <td>105.46</td>\n",
       "      <td>105.3101</td>\n",
       "      <td>105.350</td>\n",
       "      <td>1771301.0</td>\n",
       "      <td>NaN</td>\n",
       "      <td>291.34</td>\n",
       "      <td>291.50</td>\n",
       "      <td>290.3700</td>\n",
       "      <td>291.07</td>\n",
       "      <td>37585070</td>\n",
       "      <td>NaN</td>\n",
       "    </tr>\n",
       "    <tr>\n",
       "      <th>2018-09-25 00:00:00-04:00</th>\n",
       "      <td>105.25</td>\n",
       "      <td>105.30</td>\n",
       "      <td>105.1800</td>\n",
       "      <td>105.290</td>\n",
       "      <td>1863777.0</td>\n",
       "      <td>-0.000570</td>\n",
       "      <td>291.53</td>\n",
       "      <td>291.65</td>\n",
       "      <td>290.4833</td>\n",
       "      <td>290.70</td>\n",
       "      <td>30128907</td>\n",
       "      <td>-0.001271</td>\n",
       "    </tr>\n",
       "    <tr>\n",
       "      <th>2018-09-26 00:00:00-04:00</th>\n",
       "      <td>105.37</td>\n",
       "      <td>105.60</td>\n",
       "      <td>105.3350</td>\n",
       "      <td>105.560</td>\n",
       "      <td>2626493.0</td>\n",
       "      <td>0.002564</td>\n",
       "      <td>290.92</td>\n",
       "      <td>292.24</td>\n",
       "      <td>289.4100</td>\n",
       "      <td>289.84</td>\n",
       "      <td>53536102</td>\n",
       "      <td>-0.002958</td>\n",
       "    </tr>\n",
       "    <tr>\n",
       "      <th>2018-09-27 00:00:00-04:00</th>\n",
       "      <td>105.50</td>\n",
       "      <td>105.64</td>\n",
       "      <td>105.5000</td>\n",
       "      <td>105.625</td>\n",
       "      <td>2252805.0</td>\n",
       "      <td>0.000616</td>\n",
       "      <td>290.44</td>\n",
       "      <td>291.91</td>\n",
       "      <td>290.1000</td>\n",
       "      <td>290.65</td>\n",
       "      <td>42099964</td>\n",
       "      <td>0.002795</td>\n",
       "    </tr>\n",
       "    <tr>\n",
       "      <th>2018-09-28 00:00:00-04:00</th>\n",
       "      <td>105.69</td>\n",
       "      <td>105.71</td>\n",
       "      <td>105.5100</td>\n",
       "      <td>105.520</td>\n",
       "      <td>3859908.0</td>\n",
       "      <td>-0.000994</td>\n",
       "      <td>289.99</td>\n",
       "      <td>291.28</td>\n",
       "      <td>289.9500</td>\n",
       "      <td>290.61</td>\n",
       "      <td>49399177</td>\n",
       "      <td>-0.000138</td>\n",
       "    </tr>\n",
       "  </tbody>\n",
       "</table>\n",
       "</div>"
      ],
      "text/plain": [
       "                              AGG                                        \\\n",
       "                             open    high       low    close     volume   \n",
       "time                                                                      \n",
       "2018-09-24 00:00:00-04:00  105.33  105.46  105.3101  105.350  1771301.0   \n",
       "2018-09-25 00:00:00-04:00  105.25  105.30  105.1800  105.290  1863777.0   \n",
       "2018-09-26 00:00:00-04:00  105.37  105.60  105.3350  105.560  2626493.0   \n",
       "2018-09-27 00:00:00-04:00  105.50  105.64  105.5000  105.625  2252805.0   \n",
       "2018-09-28 00:00:00-04:00  105.69  105.71  105.5100  105.520  3859908.0   \n",
       "\n",
       "                                           SPY                            \\\n",
       "                          daily_return    open    high       low   close   \n",
       "time                                                                       \n",
       "2018-09-24 00:00:00-04:00          NaN  291.34  291.50  290.3700  291.07   \n",
       "2018-09-25 00:00:00-04:00    -0.000570  291.53  291.65  290.4833  290.70   \n",
       "2018-09-26 00:00:00-04:00     0.002564  290.92  292.24  289.4100  289.84   \n",
       "2018-09-27 00:00:00-04:00     0.000616  290.44  291.91  290.1000  290.65   \n",
       "2018-09-28 00:00:00-04:00    -0.000994  289.99  291.28  289.9500  290.61   \n",
       "\n",
       "                                                  \n",
       "                             volume daily_return  \n",
       "time                                              \n",
       "2018-09-24 00:00:00-04:00  37585070          NaN  \n",
       "2018-09-25 00:00:00-04:00  30128907    -0.001271  \n",
       "2018-09-26 00:00:00-04:00  53536102    -0.002958  \n",
       "2018-09-27 00:00:00-04:00  42099964     0.002795  \n",
       "2018-09-28 00:00:00-04:00  49399177    -0.000138  "
      ]
     },
     "execution_count": 100,
     "metadata": {},
     "output_type": "execute_result"
    }
   ],
   "source": [
    "# Configures a Monte Carlo simulation to forecast 10 years cumulative returns\n",
    "# The weights should be split 20% to AGG and 80% to SPY.\n",
    "# Runs 500 samples.\n",
    "mc_tenyear = MCSimulation(\n",
    "    portfolio_data = portfolio_mc_df,\n",
    "    weights = [.20,.80],\n",
    "    num_simulation=500,\n",
    "    num_trading_days=252*10\n",
    ")\n",
    "\n",
    "# Reviews the simulation input data\n",
    "mc_tenyear.portfolio_data.head()\n",
    "\n"
   ]
  },
  {
   "cell_type": "code",
   "execution_count": 101,
   "metadata": {},
   "outputs": [
    {
     "name": "stdout",
     "output_type": "stream",
     "text": [
      "Running Monte Carlo simulation number 0.\n",
      "Running Monte Carlo simulation number 10.\n",
      "Running Monte Carlo simulation number 20.\n",
      "Running Monte Carlo simulation number 30.\n",
      "Running Monte Carlo simulation number 40.\n",
      "Running Monte Carlo simulation number 50.\n",
      "Running Monte Carlo simulation number 60.\n",
      "Running Monte Carlo simulation number 70.\n",
      "Running Monte Carlo simulation number 80.\n",
      "Running Monte Carlo simulation number 90.\n",
      "Running Monte Carlo simulation number 100.\n",
      "Running Monte Carlo simulation number 110.\n",
      "Running Monte Carlo simulation number 120.\n",
      "Running Monte Carlo simulation number 130.\n",
      "Running Monte Carlo simulation number 140.\n",
      "Running Monte Carlo simulation number 150.\n",
      "Running Monte Carlo simulation number 160.\n",
      "Running Monte Carlo simulation number 170.\n",
      "Running Monte Carlo simulation number 180.\n",
      "Running Monte Carlo simulation number 190.\n",
      "Running Monte Carlo simulation number 200.\n",
      "Running Monte Carlo simulation number 210.\n",
      "Running Monte Carlo simulation number 220.\n",
      "Running Monte Carlo simulation number 230.\n",
      "Running Monte Carlo simulation number 240.\n",
      "Running Monte Carlo simulation number 250.\n",
      "Running Monte Carlo simulation number 260.\n",
      "Running Monte Carlo simulation number 270.\n",
      "Running Monte Carlo simulation number 280.\n",
      "Running Monte Carlo simulation number 290.\n",
      "Running Monte Carlo simulation number 300.\n",
      "Running Monte Carlo simulation number 310.\n",
      "Running Monte Carlo simulation number 320.\n",
      "Running Monte Carlo simulation number 330.\n",
      "Running Monte Carlo simulation number 340.\n",
      "Running Monte Carlo simulation number 350.\n",
      "Running Monte Carlo simulation number 360.\n",
      "Running Monte Carlo simulation number 370.\n",
      "Running Monte Carlo simulation number 380.\n",
      "Running Monte Carlo simulation number 390.\n",
      "Running Monte Carlo simulation number 400.\n",
      "Running Monte Carlo simulation number 410.\n",
      "Running Monte Carlo simulation number 420.\n",
      "Running Monte Carlo simulation number 430.\n",
      "Running Monte Carlo simulation number 440.\n",
      "Running Monte Carlo simulation number 450.\n",
      "Running Monte Carlo simulation number 460.\n",
      "Running Monte Carlo simulation number 470.\n",
      "Running Monte Carlo simulation number 480.\n",
      "Running Monte Carlo simulation number 490.\n"
     ]
    },
    {
     "data": {
      "text/html": [
       "<div>\n",
       "<style scoped>\n",
       "    .dataframe tbody tr th:only-of-type {\n",
       "        vertical-align: middle;\n",
       "    }\n",
       "\n",
       "    .dataframe tbody tr th {\n",
       "        vertical-align: top;\n",
       "    }\n",
       "\n",
       "    .dataframe thead th {\n",
       "        text-align: right;\n",
       "    }\n",
       "</style>\n",
       "<table border=\"1\" class=\"dataframe\">\n",
       "  <thead>\n",
       "    <tr style=\"text-align: right;\">\n",
       "      <th></th>\n",
       "      <th>0</th>\n",
       "      <th>1</th>\n",
       "      <th>2</th>\n",
       "      <th>3</th>\n",
       "      <th>4</th>\n",
       "      <th>5</th>\n",
       "      <th>6</th>\n",
       "      <th>7</th>\n",
       "      <th>8</th>\n",
       "      <th>9</th>\n",
       "      <th>...</th>\n",
       "      <th>490</th>\n",
       "      <th>491</th>\n",
       "      <th>492</th>\n",
       "      <th>493</th>\n",
       "      <th>494</th>\n",
       "      <th>495</th>\n",
       "      <th>496</th>\n",
       "      <th>497</th>\n",
       "      <th>498</th>\n",
       "      <th>499</th>\n",
       "    </tr>\n",
       "  </thead>\n",
       "  <tbody>\n",
       "    <tr>\n",
       "      <th>0</th>\n",
       "      <td>1.000000</td>\n",
       "      <td>1.000000</td>\n",
       "      <td>1.000000</td>\n",
       "      <td>1.000000</td>\n",
       "      <td>1.000000</td>\n",
       "      <td>1.000000</td>\n",
       "      <td>1.000000</td>\n",
       "      <td>1.000000</td>\n",
       "      <td>1.000000</td>\n",
       "      <td>1.000000</td>\n",
       "      <td>...</td>\n",
       "      <td>1.000000</td>\n",
       "      <td>1.000000</td>\n",
       "      <td>1.000000</td>\n",
       "      <td>1.000000</td>\n",
       "      <td>1.000000</td>\n",
       "      <td>1.000000</td>\n",
       "      <td>1.000000</td>\n",
       "      <td>1.000000</td>\n",
       "      <td>1.000000</td>\n",
       "      <td>1.000000</td>\n",
       "    </tr>\n",
       "    <tr>\n",
       "      <th>1</th>\n",
       "      <td>1.014085</td>\n",
       "      <td>1.007123</td>\n",
       "      <td>1.001106</td>\n",
       "      <td>1.011695</td>\n",
       "      <td>0.994929</td>\n",
       "      <td>0.977694</td>\n",
       "      <td>0.992772</td>\n",
       "      <td>1.013514</td>\n",
       "      <td>1.021739</td>\n",
       "      <td>0.993617</td>\n",
       "      <td>...</td>\n",
       "      <td>0.975862</td>\n",
       "      <td>1.003041</td>\n",
       "      <td>0.979193</td>\n",
       "      <td>1.004267</td>\n",
       "      <td>0.988800</td>\n",
       "      <td>1.008382</td>\n",
       "      <td>1.002345</td>\n",
       "      <td>0.991954</td>\n",
       "      <td>0.996696</td>\n",
       "      <td>1.010822</td>\n",
       "    </tr>\n",
       "    <tr>\n",
       "      <th>2</th>\n",
       "      <td>1.008847</td>\n",
       "      <td>1.015955</td>\n",
       "      <td>0.989802</td>\n",
       "      <td>1.012610</td>\n",
       "      <td>1.000216</td>\n",
       "      <td>0.967165</td>\n",
       "      <td>0.988195</td>\n",
       "      <td>1.016442</td>\n",
       "      <td>1.003452</td>\n",
       "      <td>0.988939</td>\n",
       "      <td>...</td>\n",
       "      <td>0.964608</td>\n",
       "      <td>0.997128</td>\n",
       "      <td>0.995265</td>\n",
       "      <td>0.995582</td>\n",
       "      <td>0.986297</td>\n",
       "      <td>1.007838</td>\n",
       "      <td>1.004751</td>\n",
       "      <td>0.991352</td>\n",
       "      <td>0.988837</td>\n",
       "      <td>1.020891</td>\n",
       "    </tr>\n",
       "    <tr>\n",
       "      <th>3</th>\n",
       "      <td>1.008897</td>\n",
       "      <td>1.021923</td>\n",
       "      <td>0.993760</td>\n",
       "      <td>1.026525</td>\n",
       "      <td>1.003134</td>\n",
       "      <td>0.973690</td>\n",
       "      <td>0.988437</td>\n",
       "      <td>1.022563</td>\n",
       "      <td>1.006766</td>\n",
       "      <td>0.969460</td>\n",
       "      <td>...</td>\n",
       "      <td>0.965970</td>\n",
       "      <td>0.993598</td>\n",
       "      <td>1.007419</td>\n",
       "      <td>0.999491</td>\n",
       "      <td>0.993596</td>\n",
       "      <td>0.983878</td>\n",
       "      <td>0.986665</td>\n",
       "      <td>0.994492</td>\n",
       "      <td>0.998748</td>\n",
       "      <td>1.020620</td>\n",
       "    </tr>\n",
       "    <tr>\n",
       "      <th>4</th>\n",
       "      <td>1.014930</td>\n",
       "      <td>1.002525</td>\n",
       "      <td>0.982906</td>\n",
       "      <td>1.014543</td>\n",
       "      <td>1.003640</td>\n",
       "      <td>1.000727</td>\n",
       "      <td>0.969922</td>\n",
       "      <td>1.022367</td>\n",
       "      <td>0.998233</td>\n",
       "      <td>0.971335</td>\n",
       "      <td>...</td>\n",
       "      <td>0.954411</td>\n",
       "      <td>0.985762</td>\n",
       "      <td>1.021263</td>\n",
       "      <td>0.984865</td>\n",
       "      <td>0.992915</td>\n",
       "      <td>0.989509</td>\n",
       "      <td>0.984541</td>\n",
       "      <td>0.995143</td>\n",
       "      <td>0.984160</td>\n",
       "      <td>1.011178</td>\n",
       "    </tr>\n",
       "    <tr>\n",
       "      <th>...</th>\n",
       "      <td>...</td>\n",
       "      <td>...</td>\n",
       "      <td>...</td>\n",
       "      <td>...</td>\n",
       "      <td>...</td>\n",
       "      <td>...</td>\n",
       "      <td>...</td>\n",
       "      <td>...</td>\n",
       "      <td>...</td>\n",
       "      <td>...</td>\n",
       "      <td>...</td>\n",
       "      <td>...</td>\n",
       "      <td>...</td>\n",
       "      <td>...</td>\n",
       "      <td>...</td>\n",
       "      <td>...</td>\n",
       "      <td>...</td>\n",
       "      <td>...</td>\n",
       "      <td>...</td>\n",
       "      <td>...</td>\n",
       "      <td>...</td>\n",
       "    </tr>\n",
       "    <tr>\n",
       "      <th>2516</th>\n",
       "      <td>3.676871</td>\n",
       "      <td>2.161781</td>\n",
       "      <td>3.557506</td>\n",
       "      <td>2.090098</td>\n",
       "      <td>5.524935</td>\n",
       "      <td>3.882731</td>\n",
       "      <td>1.830584</td>\n",
       "      <td>4.572591</td>\n",
       "      <td>5.189068</td>\n",
       "      <td>6.361095</td>\n",
       "      <td>...</td>\n",
       "      <td>3.680282</td>\n",
       "      <td>3.082890</td>\n",
       "      <td>1.720385</td>\n",
       "      <td>4.754273</td>\n",
       "      <td>8.852745</td>\n",
       "      <td>0.920298</td>\n",
       "      <td>4.620631</td>\n",
       "      <td>8.073044</td>\n",
       "      <td>2.569982</td>\n",
       "      <td>2.365093</td>\n",
       "    </tr>\n",
       "    <tr>\n",
       "      <th>2517</th>\n",
       "      <td>3.649961</td>\n",
       "      <td>2.193383</td>\n",
       "      <td>3.583922</td>\n",
       "      <td>2.109066</td>\n",
       "      <td>5.474017</td>\n",
       "      <td>3.863016</td>\n",
       "      <td>1.814974</td>\n",
       "      <td>4.601727</td>\n",
       "      <td>5.164987</td>\n",
       "      <td>6.319876</td>\n",
       "      <td>...</td>\n",
       "      <td>3.739525</td>\n",
       "      <td>3.101328</td>\n",
       "      <td>1.718698</td>\n",
       "      <td>4.691119</td>\n",
       "      <td>8.883631</td>\n",
       "      <td>0.922402</td>\n",
       "      <td>4.615018</td>\n",
       "      <td>8.093106</td>\n",
       "      <td>2.582921</td>\n",
       "      <td>2.387066</td>\n",
       "    </tr>\n",
       "    <tr>\n",
       "      <th>2518</th>\n",
       "      <td>3.667364</td>\n",
       "      <td>2.162179</td>\n",
       "      <td>3.588086</td>\n",
       "      <td>2.124811</td>\n",
       "      <td>5.461558</td>\n",
       "      <td>3.913806</td>\n",
       "      <td>1.837435</td>\n",
       "      <td>4.558707</td>\n",
       "      <td>5.099060</td>\n",
       "      <td>6.325532</td>\n",
       "      <td>...</td>\n",
       "      <td>3.755038</td>\n",
       "      <td>3.143300</td>\n",
       "      <td>1.724172</td>\n",
       "      <td>4.646327</td>\n",
       "      <td>8.820864</td>\n",
       "      <td>0.922241</td>\n",
       "      <td>4.651249</td>\n",
       "      <td>8.015001</td>\n",
       "      <td>2.582923</td>\n",
       "      <td>2.399868</td>\n",
       "    </tr>\n",
       "    <tr>\n",
       "      <th>2519</th>\n",
       "      <td>3.646037</td>\n",
       "      <td>2.156196</td>\n",
       "      <td>3.510603</td>\n",
       "      <td>2.123907</td>\n",
       "      <td>5.445049</td>\n",
       "      <td>3.837522</td>\n",
       "      <td>1.865652</td>\n",
       "      <td>4.609479</td>\n",
       "      <td>5.146405</td>\n",
       "      <td>6.334348</td>\n",
       "      <td>...</td>\n",
       "      <td>3.742975</td>\n",
       "      <td>3.187367</td>\n",
       "      <td>1.713835</td>\n",
       "      <td>4.674647</td>\n",
       "      <td>8.740008</td>\n",
       "      <td>0.921276</td>\n",
       "      <td>4.622998</td>\n",
       "      <td>7.784034</td>\n",
       "      <td>2.554257</td>\n",
       "      <td>2.386363</td>\n",
       "    </tr>\n",
       "    <tr>\n",
       "      <th>2520</th>\n",
       "      <td>3.635713</td>\n",
       "      <td>2.133619</td>\n",
       "      <td>3.590489</td>\n",
       "      <td>2.120880</td>\n",
       "      <td>5.453136</td>\n",
       "      <td>3.820313</td>\n",
       "      <td>1.888967</td>\n",
       "      <td>4.665540</td>\n",
       "      <td>5.106004</td>\n",
       "      <td>6.361201</td>\n",
       "      <td>...</td>\n",
       "      <td>3.782063</td>\n",
       "      <td>3.163957</td>\n",
       "      <td>1.710552</td>\n",
       "      <td>4.732823</td>\n",
       "      <td>8.756493</td>\n",
       "      <td>0.916252</td>\n",
       "      <td>4.658553</td>\n",
       "      <td>7.863502</td>\n",
       "      <td>2.530817</td>\n",
       "      <td>2.410739</td>\n",
       "    </tr>\n",
       "  </tbody>\n",
       "</table>\n",
       "<p>2521 rows × 500 columns</p>\n",
       "</div>"
      ],
      "text/plain": [
       "           0         1         2         3         4         5         6    \\\n",
       "0     1.000000  1.000000  1.000000  1.000000  1.000000  1.000000  1.000000   \n",
       "1     1.014085  1.007123  1.001106  1.011695  0.994929  0.977694  0.992772   \n",
       "2     1.008847  1.015955  0.989802  1.012610  1.000216  0.967165  0.988195   \n",
       "3     1.008897  1.021923  0.993760  1.026525  1.003134  0.973690  0.988437   \n",
       "4     1.014930  1.002525  0.982906  1.014543  1.003640  1.000727  0.969922   \n",
       "...        ...       ...       ...       ...       ...       ...       ...   \n",
       "2516  3.676871  2.161781  3.557506  2.090098  5.524935  3.882731  1.830584   \n",
       "2517  3.649961  2.193383  3.583922  2.109066  5.474017  3.863016  1.814974   \n",
       "2518  3.667364  2.162179  3.588086  2.124811  5.461558  3.913806  1.837435   \n",
       "2519  3.646037  2.156196  3.510603  2.123907  5.445049  3.837522  1.865652   \n",
       "2520  3.635713  2.133619  3.590489  2.120880  5.453136  3.820313  1.888967   \n",
       "\n",
       "           7         8         9    ...       490       491       492  \\\n",
       "0     1.000000  1.000000  1.000000  ...  1.000000  1.000000  1.000000   \n",
       "1     1.013514  1.021739  0.993617  ...  0.975862  1.003041  0.979193   \n",
       "2     1.016442  1.003452  0.988939  ...  0.964608  0.997128  0.995265   \n",
       "3     1.022563  1.006766  0.969460  ...  0.965970  0.993598  1.007419   \n",
       "4     1.022367  0.998233  0.971335  ...  0.954411  0.985762  1.021263   \n",
       "...        ...       ...       ...  ...       ...       ...       ...   \n",
       "2516  4.572591  5.189068  6.361095  ...  3.680282  3.082890  1.720385   \n",
       "2517  4.601727  5.164987  6.319876  ...  3.739525  3.101328  1.718698   \n",
       "2518  4.558707  5.099060  6.325532  ...  3.755038  3.143300  1.724172   \n",
       "2519  4.609479  5.146405  6.334348  ...  3.742975  3.187367  1.713835   \n",
       "2520  4.665540  5.106004  6.361201  ...  3.782063  3.163957  1.710552   \n",
       "\n",
       "           493       494       495       496       497       498       499  \n",
       "0     1.000000  1.000000  1.000000  1.000000  1.000000  1.000000  1.000000  \n",
       "1     1.004267  0.988800  1.008382  1.002345  0.991954  0.996696  1.010822  \n",
       "2     0.995582  0.986297  1.007838  1.004751  0.991352  0.988837  1.020891  \n",
       "3     0.999491  0.993596  0.983878  0.986665  0.994492  0.998748  1.020620  \n",
       "4     0.984865  0.992915  0.989509  0.984541  0.995143  0.984160  1.011178  \n",
       "...        ...       ...       ...       ...       ...       ...       ...  \n",
       "2516  4.754273  8.852745  0.920298  4.620631  8.073044  2.569982  2.365093  \n",
       "2517  4.691119  8.883631  0.922402  4.615018  8.093106  2.582921  2.387066  \n",
       "2518  4.646327  8.820864  0.922241  4.651249  8.015001  2.582923  2.399868  \n",
       "2519  4.674647  8.740008  0.921276  4.622998  7.784034  2.554257  2.386363  \n",
       "2520  4.732823  8.756493  0.916252  4.658553  7.863502  2.530817  2.410739  \n",
       "\n",
       "[2521 rows x 500 columns]"
      ]
     },
     "execution_count": 101,
     "metadata": {},
     "output_type": "execute_result"
    }
   ],
   "source": [
    "# Runs the Monte Carlo simulation to forecast 10 years cumulative returns\n",
    "mc_tenyear.calc_cumulative_return()\n"
   ]
  },
  {
   "cell_type": "code",
   "execution_count": 102,
   "metadata": {},
   "outputs": [
    {
     "data": {
      "image/png": "[encoded data removed]",
      "text/plain": [
       "<Figure size 432x288 with 1 Axes>"
      ]
     },
     "metadata": {
      "needs_background": "light"
     },
     "output_type": "display_data"
    }
   ],
   "source": [
    "# Visualizes the 10-year Monte Carlo simulation by creating an\n",
    "# overlay line plot\n",
    "mc_ten_plot = mc_tenyear.plot_simulation()\n"
   ]
  },
  {
   "cell_type": "code",
   "execution_count": 103,
   "metadata": {},
   "outputs": [
    {
     "data": {
      "image/png": "[encoded data removed]",
      "text/plain": [
       "<Figure size 432x288 with 1 Axes>"
      ]
     },
     "metadata": {
      "needs_background": "light"
     },
     "output_type": "display_data"
    }
   ],
   "source": [
    "# Visualizes the probability distribution of the 10-year Monte Carlo simulation \n",
    "# by plotting a histogram\n",
    "mc_ten_dis = mc_tenyear.plot_distribution()\n"
   ]
  },
  {
   "cell_type": "code",
   "execution_count": 104,
   "metadata": {},
   "outputs": [
    {
     "name": "stdout",
     "output_type": "stream",
     "text": [
      "count           500.000000\n",
      "mean              4.040873\n",
      "std               2.408135\n",
      "min               0.785261\n",
      "25%               2.387938\n",
      "50%               3.484882\n",
      "75%               5.123808\n",
      "max              17.125987\n",
      "95% CI Lower      1.119426\n",
      "95% CI Upper     10.203042\n",
      "Name: 2520, dtype: float64\n"
     ]
    }
   ],
   "source": [
    "# Generates summary statistics from the 10-year Monte Carlo simulation results\n",
    "# and saves the results as a variable\n",
    "mc_tenyear_summary = mc_tenyear.summarize_cumulative_return()\n",
    "\n",
    "\n",
    "\n",
    "# Review the 10-year Monte Carlo summary statistics\n",
    "print(mc_tenyear_summary)"
   ]
  },
  {
   "cell_type": "markdown",
   "metadata": {},
   "source": [
    "### Answer the following questions:"
   ]
  },
  {
   "cell_type": "markdown",
   "metadata": {},
   "source": [
    "#### Question: Using the current value of only the stock and bond portion of the member's portfolio and the summary statistics that you generated from the new Monte Carlo simulation, what are the lower and upper bounds for the expected value of the portfolio (with the new weights) with a 95% confidence interval?"
   ]
  },
  {
   "cell_type": "code",
   "execution_count": 106,
   "metadata": {},
   "outputs": [
    {
     "name": "stdout",
     "output_type": "stream",
     "text": [
      "The current balance of the stocks/bonds portfolio is 71913.20.\n"
     ]
    }
   ],
   "source": [
    "# Prints the current balance of the stock and bond portion of the members portfolio\n",
    "print(f\"The current balance of the stocks/bonds portfolio is {total_stocks_bonds:.2f}.\")"
   ]
  },
  {
   "cell_type": "code",
   "execution_count": 105,
   "metadata": {},
   "outputs": [
    {
     "name": "stdout",
     "output_type": "stream",
     "text": [
      "The possible return for the stocsk/bonds portfolio is between $80501.53 and $733733.38\n"
     ]
    }
   ],
   "source": [
    "# Uses the lower and upper `95%` confidence intervals to calculate the range of the possible outcomes for the current stock/bond portfolio\n",
    "ci_lower_ten_cumulative_return = mc_tenyear_summary[8] * total_stocks_bonds\n",
    "ci_upper_ten_cumulative_return = mc_tenyear_summary[9] * total_stocks_bonds\n",
    "\n",
    "# Prints the result of your calculations\n",
    "\n",
    "print(f\"The possible return for the stocsk/bonds portfolio is between ${ci_lower_ten_cumulative_return:.2f} and ${ci_upper_ten_cumulative_return:.2f}.\")"
   ]
  },
  {
   "cell_type": "markdown",
   "metadata": {},
   "source": [
    "#### Question: Will weighting the portfolio more heavily to stocks allow the credit union members to retire after only 10 years?"
   ]
  },
  {
   "cell_type": "raw",
   "metadata": {},
   "source": [
    "**Answer** # Following the wisdom that the minimum amount needed to retire is 1 million dollars, weighting the portfolio more heavily to stocks will not allow the credit union members to retire after 10 years. The possible returns from the 10 year, 80% stock portfolio are much less than the returns from a 30 year 60% stock portfolio, and the highest possible return for the 10 year portfolio is not enough to retire on. "
   ]
  },
  {
   "cell_type": "code",
   "execution_count": null,
   "metadata": {},
   "outputs": [],
   "source": []
  }
 ],
 "metadata": {
  "kernelspec": {
   "display_name": "Python 3",
   "language": "python",
   "name": "python3"
  },
  "language_info": {
   "codemirror_mode": {
    "name": "ipython",
    "version": 3
   },
   "file_extension": ".py",
   "mimetype": "text/x-python",
   "name": "python",
   "nbconvert_exporter": "python",
   "pygments_lexer": "ipython3",
   "version": "3.7.10"
  }
 },
 "nbformat": 4,
 "nbformat_minor": 4
}
